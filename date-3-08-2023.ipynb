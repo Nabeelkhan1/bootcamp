{
 "cells": [
  {
   "cell_type": "code",
   "execution_count": 7,
   "id": "75f7f60a",
   "metadata": {},
   "outputs": [
    {
     "name": "stdout",
     "output_type": "stream",
     "text": [
      "enter a no6\n",
      "nter second no7\n",
      "n2 is greater\n"
     ]
    }
   ],
   "source": [
    "num1=int(input(\"enter a no\"))\n",
    "num2=int(input(\"enter second no\"))\n",
    "if num1 > num2 :\n",
    "    print(\"n1 is greater\")\n",
    "else:\n",
    "    print(\"n2 is greater\")\n",
    "         "
   ]
  },
  {
   "cell_type": "code",
   "execution_count": 11,
   "id": "50a25ae4",
   "metadata": {},
   "outputs": [
    {
     "name": "stdout",
     "output_type": "stream",
     "text": [
      "enter a no 8\n",
      "no is even\n"
     ]
    }
   ],
   "source": [
    "num=int(input(\"enter a no \"))\n",
    "if num%2==0:\n",
    "    print(\"no is even\")\n",
    "else:\n",
    "    print(\"no is odd\")"
   ]
  },
  {
   "cell_type": "code",
   "execution_count": 13,
   "id": "38329ab2",
   "metadata": {},
   "outputs": [
    {
     "name": "stdout",
     "output_type": "stream",
     "text": [
      "enter a no 5564892\n"
     ]
    },
    {
     "data": {
      "text/plain": [
       "2"
      ]
     },
     "execution_count": 13,
     "metadata": {},
     "output_type": "execute_result"
    }
   ],
   "source": [
    "num1=int(input(\"enter a no \"))\n",
    "num1=str(num1)\n",
    "int(num1[-1])"
   ]
  },
  {
   "cell_type": "code",
   "execution_count": 14,
   "id": "43394bd2",
   "metadata": {},
   "outputs": [
    {
     "name": "stdout",
     "output_type": "stream",
     "text": [
      "enter a no5894562315\n"
     ]
    },
    {
     "data": {
      "text/plain": [
       "5"
      ]
     },
     "execution_count": 14,
     "metadata": {},
     "output_type": "execute_result"
    }
   ],
   "source": [
    "int(input(\"enter a no\")[-1])"
   ]
  },
  {
   "cell_type": "code",
   "execution_count": 25,
   "id": "ca2336aa",
   "metadata": {},
   "outputs": [
    {
     "name": "stdout",
     "output_type": "stream",
     "text": [
      "enter name :kjiuyhgtfrdesw\n",
      "name is too long\n"
     ]
    }
   ],
   "source": [
    "name=input(\"enter name :\")\n",
    "if len(name)>10:\n",
    "    print(\"name is too long\")"
   ]
  },
  {
   "cell_type": "code",
   "execution_count": 27,
   "id": "d84446e8",
   "metadata": {},
   "outputs": [
    {
     "name": "stdout",
     "output_type": "stream",
     "text": [
      "xcass\n"
     ]
    },
    {
     "data": {
      "text/plain": [
       "'ok'"
      ]
     },
     "execution_count": 27,
     "metadata": {},
     "output_type": "execute_result"
    }
   ],
   "source": [
    "\"too big\" if len(input())>10 else \"ok\""
   ]
  },
  {
   "cell_type": "code",
   "execution_count": 35,
   "id": "2a4b7485",
   "metadata": {},
   "outputs": [
    {
     "name": "stdout",
     "output_type": "stream",
     "text": [
      "enter no from 1-108\n",
      "you guessed 8 but lucky no was 4 try again\n"
     ]
    }
   ],
   "source": [
    "import random\n",
    "guess=int(input(\"enter no from 1-10\"))\n",
    "num=random.randint(1,10)\n",
    "if guess==num:\n",
    "    print(f\"you guessed {guess} you win\")\n",
    "else:\n",
    "    print(f\"you guessed {guess} but lucky no was {num} try again\")"
   ]
  },
  {
   "cell_type": "code",
   "execution_count": 45,
   "id": "fa0dc9a0",
   "metadata": {},
   "outputs": [
    {
     "name": "stdout",
     "output_type": "stream",
     "text": [
      "enter your budget 1500\n",
      "out of range\n"
     ]
    }
   ],
   "source": [
    "budget=int(input(\"enter your budget \"))\n",
    "if budget<=200:\n",
    "    print(\"buy eggs\")\n",
    "elif budget<=1000:\n",
    "    print(\"buy meat\")\n",
    "else:\n",
    "    print(\"out of range\")"
   ]
  },
  {
   "cell_type": "code",
   "execution_count": 48,
   "id": "4485c47e",
   "metadata": {},
   "outputs": [
    {
     "name": "stdout",
     "output_type": "stream",
     "text": [
      "enter your height5.5\n",
      "average\n"
     ]
    }
   ],
   "source": [
    "height=float(input(\"enter your height\"))\n",
    "if height>6:\n",
    "    print(\"tall\")\n",
    "elif height>5:\n",
    "    print(\"average\")\n",
    "else:\n",
    "    print(\"short\")"
   ]
  },
  {
   "cell_type": "code",
   "execution_count": 64,
   "id": "03a0abf4",
   "metadata": {},
   "outputs": [
    {
     "name": "stdout",
     "output_type": "stream",
     "text": [
      "enter your salary5000\n",
      "enter your service year12\n",
      "10 % bonus is added\n",
      "5000\n",
      "5500.0\n"
     ]
    }
   ],
   "source": [
    "salary=int(input(\"enter your salary\"))\n",
    "service=float(input(\"enter your service year\"))\n",
    "if service>15:\n",
    "    bonus=salary*.15\n",
    "    print(\"15 % bonus is added\")\n",
    "elif service>10:\n",
    "    bonus=salary*.10\n",
    "    print(\"10 % bonus is added\")\n",
    "elif service>5:\n",
    "    bonus=salary*.5\n",
    "    print(\"5 % bonus is added\")\n",
    "else:\n",
    "    print(\"no bonus\")\n",
    "print(salary)\n",
    "print(salary+bonus)"
   ]
  },
  {
   "cell_type": "code",
   "execution_count": 68,
   "id": "ece03e06",
   "metadata": {},
   "outputs": [
    {
     "name": "stdout",
     "output_type": "stream",
     "text": [
      "enter units500\n",
      "you have comsumed 500 and your bill id 5500\n"
     ]
    }
   ],
   "source": [
    "units=int(input(\"enter units\"))\n",
    "if units<=100:\n",
    "    bill=units*5\n",
    "elif units <=300:\n",
    "    bill=100*5+(units-100)*10\n",
    "else:\n",
    "    bill=100*5+200*10+(units-300)*15\n",
    "print(f\"you have comsumed {units} and your bill id {bill}\")    \n",
    "\n",
    "    "
   ]
  },
  {
   "cell_type": "code",
   "execution_count": null,
   "id": "7bf5aafe",
   "metadata": {},
   "outputs": [],
   "source": []
  },
  {
   "cell_type": "code",
   "execution_count": null,
   "id": "d57b38d0",
   "metadata": {},
   "outputs": [],
   "source": []
  }
 ],
 "metadata": {
  "kernelspec": {
   "display_name": "Python 3 (ipykernel)",
   "language": "python",
   "name": "python3"
  },
  "language_info": {
   "codemirror_mode": {
    "name": "ipython",
    "version": 3
   },
   "file_extension": ".py",
   "mimetype": "text/x-python",
   "name": "python",
   "nbconvert_exporter": "python",
   "pygments_lexer": "ipython3",
   "version": "3.11.3"
  }
 },
 "nbformat": 4,
 "nbformat_minor": 5
}
