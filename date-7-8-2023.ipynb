{
 "cells": [
  {
   "cell_type": "markdown",
   "id": "d4299059",
   "metadata": {},
   "source": [
    "# Fuctions\n",
    " -"
   ]
  },
  {
   "cell_type": "code",
   "execution_count": 3,
   "id": "e45d38e1",
   "metadata": {},
   "outputs": [
    {
     "name": "stdout",
     "output_type": "stream",
     "text": [
      "hello world\n"
     ]
    }
   ],
   "source": [
    "#function define\n",
    "def greet():\n",
    "    print(\"hello world\")\n",
    "greet()    "
   ]
  },
  {
   "cell_type": "code",
   "execution_count": 2,
   "id": "bdebe2a2",
   "metadata": {},
   "outputs": [
    {
     "name": "stdout",
     "output_type": "stream",
     "text": [
      "hello world\n"
     ]
    }
   ],
   "source": [
    "greet()"
   ]
  },
  {
   "cell_type": "code",
   "execution_count": 6,
   "id": "8a7f3e8b",
   "metadata": {},
   "outputs": [
    {
     "name": "stdout",
     "output_type": "stream",
     "text": [
      "welcome nabeel\n",
      "welcome nabeel\n"
     ]
    }
   ],
   "source": [
    "def gree_user(name):#parameter\n",
    "    print(f\"welcome {name}\") #one string\n",
    "    print(\"welcome\",name)#two strings because of comma\n",
    "    \n",
    "gree_user(\"nabeel\") #argument"
   ]
  },
  {
   "cell_type": "code",
   "execution_count": 20,
   "id": "7f23c521",
   "metadata": {},
   "outputs": [
    {
     "name": "stdout",
     "output_type": "stream",
     "text": [
      "words: 9\n",
      "        sentence: 1\n",
      "      char: 41\n"
     ]
    }
   ],
   "source": [
    "#write a function that tells how many characters,\n",
    "#words and sentences are there in a paragraph\n",
    "\n",
    "def text_count(txt):\n",
    "    words=len(txt.split())\n",
    "    sentence=len(txt.split('.'))\n",
    "    char=len(txt)\n",
    "    print(f\"\"\"words: {words}\n",
    "        sentence: {sentence}\n",
    "      char: {char}\"\"\")\n",
    "text_count(\"a quick brown fox jumps over the lazy dog\")"
   ]
  },
  {
   "cell_type": "code",
   "execution_count": 8,
   "id": "a0d41c87",
   "metadata": {},
   "outputs": [
    {
     "name": "stdout",
     "output_type": "stream",
     "text": [
      "enter opperator: /\n",
      "enter a no: 5\n",
      "enter second no: 0\n",
      "not supported\n"
     ]
    }
   ],
   "source": [
    "def cal():\n",
    "    opp=(input(\"enter opperator: \"))\n",
    "    f=int(input(\"enter a no: \"))\n",
    "    s=int(input(\"enter second no: \"))\n",
    "    if opp==\"+\":\n",
    "        print(f+s)\n",
    "    elif opp=='-':\n",
    "        print(f-s)\n",
    "    elif (opp=='/') and (s!=0):\n",
    "        print(f/s)\n",
    "    elif opp=='*':\n",
    "        print(f*s)\n",
    "    else:\n",
    "        print(\"not supported\")\n",
    "cal()        "
   ]
  },
  {
   "cell_type": "code",
   "execution_count": 29,
   "id": "bc87e88c",
   "metadata": {},
   "outputs": [],
   "source": [
    "def discount_calc(bill_amt):\n",
    "    if bill_amt > 30000:\n",
    "        discount = bill_amt*.25\n",
    "    elif bill_amt > 25000:\n",
    "        discount = bill_amt*.20        \n",
    "    elif bill_amt > 20000:\n",
    "        discount = bill_amt*.15\n",
    "    elif bill_amt > 15000:\n",
    "        discount = bill_amt*.10\n",
    "    elif bill_amt > 10000:\n",
    "        discount = bill_amt*.5        \n",
    "    else:\n",
    "        discount = bill_amt*0\n",
    "    return discount"
   ]
  },
  {
   "cell_type": "code",
   "execution_count": 30,
   "id": "74680e19",
   "metadata": {},
   "outputs": [],
   "source": [
    "store_items={\"rice\":3000,\"oil\":4000,\"ghee\":4500}\n",
    "\n",
    "def store():\n",
    "    \n",
    "    cart=[]\n",
    "    amt=0\n",
    "    while True:\n",
    "        order=input(\"enter item name or press q to quit: \")\n",
    "        if order!=\"q\":\n",
    "            if order in store_items.keys():\n",
    "                if(amt+store_items[order])<50000:\n",
    "                    amt+=store_items[order]\n",
    "                    cart.append(order)\n",
    "                    print(cart)\n",
    "                    print(amt)\n",
    "\n",
    "                else:\n",
    "                    print(cart)\n",
    "                    print(amt)\n",
    "                    print(\"your bill amount exceed the limit\")\n",
    "                    return cart,amt,discount_calc(amt)\n",
    "            else:\n",
    "                print(f\"{order} not in store\")\n",
    "                print(cart)\n",
    "                print(amt)\n",
    "                continue\n",
    "        else:\n",
    "            break\n",
    "    return cart,amt,discount_calc(amt)\n",
    "        "
   ]
  },
  {
   "cell_type": "code",
   "execution_count": 31,
   "id": "a25516e5",
   "metadata": {},
   "outputs": [
    {
     "name": "stdout",
     "output_type": "stream",
     "text": [
      "enter item name or press q to quit: ghee\n",
      "['ghee']\n",
      "4500\n",
      "enter item name or press q to quit: q\n"
     ]
    },
    {
     "data": {
      "text/plain": [
       "(['ghee'], 4500, 0)"
      ]
     },
     "execution_count": 31,
     "metadata": {},
     "output_type": "execute_result"
    }
   ],
   "source": [
    "store()"
   ]
  },
  {
   "cell_type": "code",
   "execution_count": null,
   "id": "d0a7f561",
   "metadata": {},
   "outputs": [
    {
     "name": "stdout",
     "output_type": "stream",
     "text": [
      "enter item name or press q to quit: ghee\n",
      "['ghee']\n",
      "4500\n"
     ]
    }
   ],
   "source": [
    "discount_calc(store()[1])"
   ]
  },
  {
   "cell_type": "code",
   "execution_count": null,
   "id": "d8c28df7",
   "metadata": {},
   "outputs": [],
   "source": []
  }
 ],
 "metadata": {
  "kernelspec": {
   "display_name": "Python 3 (ipykernel)",
   "language": "python",
   "name": "python3"
  },
  "language_info": {
   "codemirror_mode": {
    "name": "ipython",
    "version": 3
   },
   "file_extension": ".py",
   "mimetype": "text/x-python",
   "name": "python",
   "nbconvert_exporter": "python",
   "pygments_lexer": "ipython3",
   "version": "3.11.3"
  }
 },
 "nbformat": 4,
 "nbformat_minor": 5
}
