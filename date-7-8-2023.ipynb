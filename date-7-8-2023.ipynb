{
 "cells": [
  {
   "cell_type": "markdown",
   "id": "d4299059",
   "metadata": {},
   "source": [
    "# Fuctions\n",
    " -"
   ]
  },
  {
   "cell_type": "code",
   "execution_count": 3,
   "id": "e45d38e1",
   "metadata": {},
   "outputs": [
    {
     "name": "stdout",
     "output_type": "stream",
     "text": [
      "hello world\n"
     ]
    }
   ],
   "source": [
    "#function define\n",
    "def greet():\n",
    "    print(\"hello world\")\n",
    "greet()    "
   ]
  },
  {
   "cell_type": "code",
   "execution_count": 2,
   "id": "bdebe2a2",
   "metadata": {},
   "outputs": [
    {
     "name": "stdout",
     "output_type": "stream",
     "text": [
      "hello world\n"
     ]
    }
   ],
   "source": [
    "greet()"
   ]
  },
  {
   "cell_type": "code",
   "execution_count": 6,
   "id": "8a7f3e8b",
   "metadata": {},
   "outputs": [
    {
     "name": "stdout",
     "output_type": "stream",
     "text": [
      "welcome nabeel\n",
      "welcome nabeel\n"
     ]
    }
   ],
   "source": [
    "def gree_user(name):#parameter\n",
    "    print(f\"welcome {name}\") #one string\n",
    "    print(\"welcome\",name)#two strings because of comma\n",
    "    \n",
    "gree_user(\"nabeel\") #argument"
   ]
  },
  {
   "cell_type": "code",
   "execution_count": 20,
   "id": "7f23c521",
   "metadata": {},
   "outputs": [
    {
     "name": "stdout",
     "output_type": "stream",
     "text": [
      "words: 9\n",
      "        sentence: 1\n",
      "      char: 41\n"
     ]
    }
   ],
   "source": [
    "#write a function that tells how many characters,\n",
    "#words and sentences are there in a paragraph\n",
    "\n",
    "def text_count(txt):\n",
    "    words=len(txt.split())\n",
    "    sentence=len(txt.split('.'))\n",
    "    char=len(txt)\n",
    "    print(f\"\"\"words: {words}\n",
    "        sentence: {sentence}\n",
    "      char: {char}\"\"\")\n",
    "text_count(\"a quick brown fox jumps over the lazy dog\")"
   ]
  },
  {
   "cell_type": "code",
   "execution_count": 8,
   "id": "a0d41c87",
   "metadata": {},
   "outputs": [
    {
     "name": "stdout",
     "output_type": "stream",
     "text": [
      "enter opperator: /\n",
      "enter a no: 5\n",
      "enter second no: 0\n",
      "not supported\n"
     ]
    }
   ],
   "source": [
    "def cal():\n",
    "    opp=(input(\"enter opperator: \"))\n",
    "    f=int(input(\"enter a no: \"))\n",
    "    s=int(input(\"enter second no: \"))\n",
    "    if opp==\"+\":\n",
    "        print(f+s)\n",
    "    elif opp=='-':\n",
    "        print(f-s)\n",
    "    elif (opp=='/') and (s!=0):\n",
    "        print(f/s)\n",
    "    elif opp=='*':\n",
    "        print(f*s)\n",
    "    else:\n",
    "        print(\"not supported\")\n",
    "cal()        "
   ]
  },
  {
   "cell_type": "code",
   "execution_count": 29,
   "id": "bc87e88c",
   "metadata": {},
   "outputs": [],
   "source": [
    "def discount_calc(bill_amt):\n",
    "    if bill_amt > 30000:\n",
    "        discount = bill_amt*.25\n",
    "    elif bill_amt > 25000:\n",
    "        discount = bill_amt*.20        \n",
    "    elif bill_amt > 20000:\n",
    "        discount = bill_amt*.15\n",
    "    elif bill_amt > 15000:\n",
    "        discount = bill_amt*.10\n",
    "    elif bill_amt > 10000:\n",
    "        discount = bill_amt*.5        \n",
    "    else:\n",
    "        discount = bill_amt*0\n",
    "    return discount"
   ]
  },
  {
   "cell_type": "code",
   "execution_count": 30,
   "id": "74680e19",
   "metadata": {},
   "outputs": [],
   "source": [
    "store_items={\"rice\":3000,\"oil\":4000,\"ghee\":4500}\n",
    "\n",
    "def store():\n",
    "    \n",
    "    cart=[]\n",
    "    amt=0\n",
    "    while True:\n",
    "        order=input(\"enter item name or press q to quit: \")\n",
    "        if order!=\"q\":\n",
    "            if order in store_items.keys():\n",
    "                if(amt+store_items[order])<50000:\n",
    "                    amt+=store_items[order]\n",
    "                    cart.append(order)\n",
    "                    print(cart)\n",
    "                    print(amt)\n",
    "\n",
    "                else:\n",
    "                    print(cart)\n",
    "                    print(amt)\n",
    "                    print(\"your bill amount exceed the limit\")\n",
    "                    return cart,amt,discount_calc(amt)\n",
    "            else:\n",
    "                print(f\"{order} not in store\")\n",
    "                print(cart)\n",
    "                print(amt)\n",
    "                continue\n",
    "        else:\n",
    "            break\n",
    "    return cart,amt,discount_calc(amt)\n",
    "        "
   ]
  },
  {
   "cell_type": "code",
   "execution_count": 31,
   "id": "a25516e5",
   "metadata": {},
   "outputs": [
    {
     "name": "stdout",
     "output_type": "stream",
     "text": [
      "enter item name or press q to quit: ghee\n",
      "['ghee']\n",
      "4500\n",
      "enter item name or press q to quit: q\n"
     ]
    },
    {
     "data": {
      "text/plain": [
       "(['ghee'], 4500, 0)"
      ]
     },
     "execution_count": 31,
     "metadata": {},
     "output_type": "execute_result"
    }
   ],
   "source": [
    "store()"
   ]
  },
  {
   "cell_type": "code",
   "execution_count": null,
   "id": "7ff3bc20",
   "metadata": {},
   "outputs": [],
   "source": [
    "discount_calc(store()[1])"
   ]
  },
  {
   "cell_type": "code",
   "execution_count": 35,
   "id": "582364aa",
   "metadata": {},
   "outputs": [
    {
     "data": {
      "text/plain": [
       "'nabeelahmedkhan'"
      ]
     },
     "execution_count": 35,
     "metadata": {},
     "output_type": "execute_result"
    }
   ],
   "source": [
    "#positioning arguments\n",
    "def full_name(firstname,middlename,lastname):\n",
    "    fullname=firstname+middlename+lastname\n",
    "    return fullname\n",
    "full_name(\"nabeel\",\"ahmed\",\"khan\")"
   ]
  },
  {
   "cell_type": "code",
   "execution_count": 36,
   "id": "4dddb40e",
   "metadata": {},
   "outputs": [],
   "source": [
    "#gefault arguments\n",
    "def full_name(firstname,lastname,middlename=''):\n",
    "    fullname=firstname+middlename+lastname\n",
    "    return fullname"
   ]
  },
  {
   "cell_type": "code",
   "execution_count": 38,
   "id": "066c3acf",
   "metadata": {},
   "outputs": [
    {
     "data": {
      "text/plain": [
       "'nabeelahmedkhan'"
      ]
     },
     "execution_count": 38,
     "metadata": {},
     "output_type": "execute_result"
    }
   ],
   "source": [
    "full_name(\"nabeel\",middlename=\"ahmed\",lastname=\"khan\")"
   ]
  },
  {
   "cell_type": "code",
   "execution_count": 39,
   "id": "481bcf29",
   "metadata": {},
   "outputs": [
    {
     "ename": "SyntaxError",
     "evalue": "positional argument follows keyword argument (2480363543.py, line 1)",
     "output_type": "error",
     "traceback": [
      "\u001b[1;36m  Cell \u001b[1;32mIn[39], line 1\u001b[1;36m\u001b[0m\n\u001b[1;33m    full_name(\"nabeel\",middlename=\"ahmed\",\"khan\")\u001b[0m\n\u001b[1;37m                                                ^\u001b[0m\n\u001b[1;31mSyntaxError\u001b[0m\u001b[1;31m:\u001b[0m positional argument follows keyword argument\n"
     ]
    }
   ],
   "source": [
    "full_name(\"nabeel\",middlename=\"ahmed\",\"khan\")#error position argument always will be in last place"
   ]
  },
  {
   "cell_type": "code",
   "execution_count": 3,
   "id": "11c98fae",
   "metadata": {},
   "outputs": [],
   "source": [
    "#arbitrarty arguments\n",
    "def summing(n1,n2,n3=0):\n",
    "    s=n1+n2+n3\n",
    "    return s"
   ]
  },
  {
   "cell_type": "code",
   "execution_count": 4,
   "id": "4907d4e3",
   "metadata": {},
   "outputs": [
    {
     "data": {
      "text/plain": [
       "8"
      ]
     },
     "execution_count": 4,
     "metadata": {},
     "output_type": "execute_result"
    }
   ],
   "source": [
    "summing(3,5)"
   ]
  },
  {
   "cell_type": "code",
   "execution_count": 2,
   "id": "f1c29fa4",
   "metadata": {},
   "outputs": [],
   "source": [
    "def summing(*n):\n",
    "    s=sum(n)\n",
    "    return s"
   ]
  },
  {
   "cell_type": "code",
   "execution_count": 3,
   "id": "49684c4f",
   "metadata": {},
   "outputs": [
    {
     "data": {
      "text/plain": [
       "10"
      ]
     },
     "execution_count": 3,
     "metadata": {},
     "output_type": "execute_result"
    }
   ],
   "source": [
    "summing(1,2,3,4)"
   ]
  },
  {
   "cell_type": "code",
   "execution_count": 11,
   "id": "ebac6739",
   "metadata": {},
   "outputs": [
    {
     "data": {
      "text/plain": [
       "'nabeelahmedkhan'"
      ]
     },
     "execution_count": 11,
     "metadata": {},
     "output_type": "execute_result"
    }
   ],
   "source": [
    "import mymath\n",
    "mymath.full_name(\"nabeel\",\"khan\",\"ahmed\")"
   ]
  },
  {
   "cell_type": "markdown",
   "id": "f884476d",
   "metadata": {},
   "source": [
    "# exception handling\n"
   ]
  },
  {
   "cell_type": "code",
   "execution_count": 17,
   "id": "deb227b8",
   "metadata": {},
   "outputs": [
    {
     "name": "stdout",
     "output_type": "stream",
     "text": [
      "enter a no4\n",
      "enter a second no3\n",
      "1.3333333333333333\n"
     ]
    }
   ],
   "source": [
    "num1=int(input(\"enter a no: \"))\n",
    "num2=int(input(\"enter a second no: \"))\n",
    "try:\n",
    "    ans=num1/num2\n",
    "except ZeroDivisionError:\n",
    "    print(\"we cannot divide a number with 0\")\n",
    "else:\n",
    "    print(ans)"
   ]
  },
  {
   "cell_type": "code",
   "execution_count": 19,
   "id": "2eb111d1",
   "metadata": {},
   "outputs": [
    {
     "name": "stdout",
     "output_type": "stream",
     "text": [
      "enter a no: 5\n",
      "enter a second no: 5\n",
      "1.0\n"
     ]
    }
   ],
   "source": [
    "try:\n",
    "    num1=int(input(\"enter a no: \"))\n",
    "    num2=int(input(\"enter a second no: \"))\n",
    "    ans=num1/num2\n",
    "except ZeroDivisionError:\n",
    "    print(\"we cannot divide a number with 0\")\n",
    "except ValueError:\n",
    "    print(\"you can only enter digits\")\n",
    "else:\n",
    "    print(ans)"
   ]
  },
  {
   "cell_type": "code",
   "execution_count": 22,
   "id": "80301c87",
   "metadata": {},
   "outputs": [
    {
     "name": "stdout",
     "output_type": "stream",
     "text": [
      "enter a no: 65\n",
      "enter a second no: 4\n",
      "16.25\n"
     ]
    }
   ],
   "source": [
    "try:\n",
    "    num1=int(input(\"enter a no: \"))\n",
    "    num2=int(input(\"enter a second no: \"))\n",
    "    ans=num1/num2\n",
    "except Exception as e:\n",
    "    print(e)\n",
    "else:\n",
    "    print(ans)"
   ]
  },
  {
   "cell_type": "code",
   "execution_count": 28,
   "id": "df1c09f9",
   "metadata": {},
   "outputs": [
    {
     "name": "stdout",
     "output_type": "stream",
     "text": [
      "enter your age: 25\n",
      "ok\n"
     ]
    }
   ],
   "source": [
    "try:\n",
    "    age=int(input(\"enter your age: \"))\n",
    "    if age<15 or age>30:\n",
    "        raise \"age restriction error\"\n",
    "except Exception as e:\n",
    "    print(\"children and old age not allowed\")\n",
    "else:\n",
    "    print(\"ok\")"
   ]
  },
  {
   "cell_type": "code",
   "execution_count": null,
   "id": "1a6822f3",
   "metadata": {},
   "outputs": [],
   "source": []
  },
  {
   "cell_type": "code",
   "execution_count": null,
   "id": "2e9212ad",
   "metadata": {},
   "outputs": [],
   "source": []
  }
 ],
 "metadata": {
  "kernelspec": {
   "display_name": "Python 3 (ipykernel)",
   "language": "python",
   "name": "python3"
  },
  "language_info": {
   "codemirror_mode": {
    "name": "ipython",
    "version": 3
   },
   "file_extension": ".py",
   "mimetype": "text/x-python",
   "name": "python",
   "nbconvert_exporter": "python",
   "pygments_lexer": "ipython3",
   "version": "3.11.3"
  }
 },
 "nbformat": 4,
 "nbformat_minor": 5
}
