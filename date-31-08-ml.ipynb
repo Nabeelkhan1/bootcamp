{
 "cells": [
  {
   "cell_type": "code",
   "execution_count": 1,
   "id": "0a6b623e",
   "metadata": {},
   "outputs": [],
   "source": [
    "import tensorflow\n",
    "from tensorflow import keras"
   ]
  },
  {
   "cell_type": "code",
   "execution_count": 2,
   "id": "4709f520",
   "metadata": {},
   "outputs": [],
   "source": [
    "from tensorflow.keras.datasets import imdb\n",
    "(train_data, train_labels), (test_data, test_labels) = imdb.load_data(num_words=10000)"
   ]
  },
  {
   "cell_type": "code",
   "execution_count": 3,
   "id": "b6027102",
   "metadata": {},
   "outputs": [],
   "source": [
    "import numpy as np\n",
    "def vectorize_sequences(sequences,dimension=10000):\n",
    "    results=np.zeros((len(sequences),dimension))\n",
    "    for i,sequences in enumerate(sequences):\n",
    "        results[i,sequences]=1.\n",
    "        return results\n"
   ]
  },
  {
   "cell_type": "code",
   "execution_count": 4,
   "id": "725df372",
   "metadata": {},
   "outputs": [],
   "source": [
    "x_train=vectorize_sequences(train_data)\n",
    "x_test=vectorize_sequences(test_data)"
   ]
  },
  {
   "cell_type": "code",
   "execution_count": null,
   "id": "6da6801a",
   "metadata": {},
   "outputs": [],
   "source": []
  },
  {
   "cell_type": "code",
   "execution_count": 5,
   "id": "fc9d57e7",
   "metadata": {},
   "outputs": [
    {
     "data": {
      "text/plain": [
       "array([1, 0, 0, ..., 0, 1, 0], dtype=int64)"
      ]
     },
     "execution_count": 5,
     "metadata": {},
     "output_type": "execute_result"
    }
   ],
   "source": [
    "train_labels"
   ]
  },
  {
   "cell_type": "code",
   "execution_count": 6,
   "id": "34350748",
   "metadata": {},
   "outputs": [
    {
     "data": {
      "text/plain": [
       "(25000,)"
      ]
     },
     "execution_count": 6,
     "metadata": {},
     "output_type": "execute_result"
    }
   ],
   "source": [
    "train_labels.shape"
   ]
  },
  {
   "cell_type": "code",
   "execution_count": 7,
   "id": "66887e7a",
   "metadata": {},
   "outputs": [],
   "source": [
    "y_train=np.asarray(train_labels).astype('float32')\n",
    "y_test=np.asarray(test_labels).astype('float32')"
   ]
  },
  {
   "cell_type": "code",
   "execution_count": 8,
   "id": "ef59547c",
   "metadata": {},
   "outputs": [],
   "source": [
    "from tensorflow import keras \n",
    "from tensorflow.keras import layers\n",
    "model = keras.Sequential([\n",
    " layers.Dense(32, activation=\"sigmoid\"),\n",
    " layers.Dense(32, activation=\"sigmoid\"),\n",
    " layers.Dense(1, activation=\"sigmoid\")\n",
    "])"
   ]
  },
  {
   "cell_type": "code",
   "execution_count": 9,
   "id": "e3392598",
   "metadata": {},
   "outputs": [],
   "source": [
    "model.compile(optimizer=\"rmsprop\",\n",
    " loss=\"binary_crossentropy\",\n",
    " metrics=[\"accuracy\"])"
   ]
  },
  {
   "cell_type": "code",
   "execution_count": null,
   "id": "c93296eb",
   "metadata": {},
   "outputs": [],
   "source": []
  },
  {
   "cell_type": "code",
   "execution_count": 10,
   "id": "a647a5e3",
   "metadata": {},
   "outputs": [],
   "source": [
    "x_val = x_train[:10000]\n",
    "partial_x_train = x_train[10000:]\n",
    "y_val = y_train[:10000]\n",
    "partial_y_train = y_train[10000:]"
   ]
  },
  {
   "cell_type": "code",
   "execution_count": 11,
   "id": "72c7caed",
   "metadata": {},
   "outputs": [
    {
     "name": "stdout",
     "output_type": "stream",
     "text": [
      "Epoch 1/20\n",
      "289/289 [==============================] - 14s 43ms/step - loss: 0.6936 - accuracy: 0.5023 - val_loss: 0.6933 - val_accuracy: 0.4947\n",
      "Epoch 2/20\n",
      "289/289 [==============================] - 4s 13ms/step - loss: 0.6938 - accuracy: 0.5027 - val_loss: 0.6941 - val_accuracy: 0.4947\n",
      "Epoch 3/20\n",
      "289/289 [==============================] - 4s 13ms/step - loss: 0.6939 - accuracy: 0.5021 - val_loss: 0.6942 - val_accuracy: 0.5053\n",
      "Epoch 4/20\n",
      "289/289 [==============================] - 4s 15ms/step - loss: 0.6942 - accuracy: 0.4927 - val_loss: 0.6973 - val_accuracy: 0.4947\n",
      "Epoch 5/20\n",
      "289/289 [==============================] - 4s 12ms/step - loss: 0.6942 - accuracy: 0.4926 - val_loss: 0.6949 - val_accuracy: 0.4947\n",
      "Epoch 6/20\n",
      "289/289 [==============================] - 3s 12ms/step - loss: 0.6940 - accuracy: 0.5035 - val_loss: 0.6931 - val_accuracy: 0.5053\n",
      "Epoch 7/20\n",
      "289/289 [==============================] - 4s 13ms/step - loss: 0.6939 - accuracy: 0.5022 - val_loss: 0.6932 - val_accuracy: 0.5053\n",
      "Epoch 8/20\n",
      "289/289 [==============================] - 4s 13ms/step - loss: 0.6940 - accuracy: 0.4998 - val_loss: 0.6994 - val_accuracy: 0.4947\n",
      "Epoch 9/20\n",
      "289/289 [==============================] - 4s 13ms/step - loss: 0.6941 - accuracy: 0.4995 - val_loss: 0.6931 - val_accuracy: 0.5053\n",
      "Epoch 10/20\n",
      "289/289 [==============================] - 3s 12ms/step - loss: 0.6942 - accuracy: 0.4975 - val_loss: 0.6964 - val_accuracy: 0.4947\n",
      "Epoch 11/20\n",
      "289/289 [==============================] - 3s 11ms/step - loss: 0.6937 - accuracy: 0.5055 - val_loss: 0.6931 - val_accuracy: 0.5053\n",
      "Epoch 12/20\n",
      "289/289 [==============================] - 3s 11ms/step - loss: 0.6936 - accuracy: 0.5037 - val_loss: 0.6931 - val_accuracy: 0.5053\n",
      "Epoch 13/20\n",
      "289/289 [==============================] - 3s 11ms/step - loss: 0.6938 - accuracy: 0.5019 - val_loss: 0.6943 - val_accuracy: 0.5053\n",
      "Epoch 14/20\n",
      "289/289 [==============================] - 3s 11ms/step - loss: 0.6939 - accuracy: 0.4999 - val_loss: 0.6931 - val_accuracy: 0.5053\n",
      "Epoch 15/20\n",
      "289/289 [==============================] - 3s 11ms/step - loss: 0.6941 - accuracy: 0.4954 - val_loss: 0.6942 - val_accuracy: 0.4947\n",
      "Epoch 16/20\n",
      "289/289 [==============================] - 3s 11ms/step - loss: 0.6940 - accuracy: 0.4963 - val_loss: 0.6932 - val_accuracy: 0.4947\n",
      "Epoch 17/20\n",
      "289/289 [==============================] - 3s 11ms/step - loss: 0.6942 - accuracy: 0.4942 - val_loss: 0.6932 - val_accuracy: 0.5053\n",
      "Epoch 18/20\n",
      "289/289 [==============================] - 3s 11ms/step - loss: 0.6941 - accuracy: 0.4907 - val_loss: 0.6935 - val_accuracy: 0.5053\n",
      "Epoch 19/20\n",
      "289/289 [==============================] - 3s 12ms/step - loss: 0.6939 - accuracy: 0.5033 - val_loss: 0.6933 - val_accuracy: 0.4947\n",
      "Epoch 20/20\n",
      "289/289 [==============================] - 3s 11ms/step - loss: 0.6941 - accuracy: 0.4951 - val_loss: 0.6933 - val_accuracy: 0.4947\n"
     ]
    }
   ],
   "source": [
    "history = model.fit(partial_x_train,\n",
    " partial_y_train,\n",
    " epochs=20,\n",
    " batch_size=52,\n",
    " validation_data=(x_val, y_val))"
   ]
  },
  {
   "cell_type": "code",
   "execution_count": 12,
   "id": "175831fe",
   "metadata": {},
   "outputs": [
    {
     "data": {
      "image/png": "[encoded data removed]",
      "text/plain": [
       "<Figure size 640x480 with 1 Axes>"
      ]
     },
     "metadata": {},
     "output_type": "display_data"
    }
   ],
   "source": [
    "import matplotlib.pyplot as plt\n",
    "history_dict = history.history\n",
    "loss_values = history_dict[\"loss\"]\n",
    "val_loss_values = history_dict[\"val_loss\"]\n",
    "epochs = range(1, len(loss_values) + 1)\n",
    "plt.plot(epochs, loss_values, \"bo\", label=\"Training loss\")\n",
    "plt.plot(epochs, val_loss_values, \"b\", label=\"Validation loss\") \n",
    "plt.title(\"Training and validation loss\")\n",
    "plt.xlabel(\"Epochs\")\n",
    "plt.ylabel(\"Loss\")\n",
    "plt.legend()\n",
    "plt.show()"
   ]
  },
  {
   "cell_type": "code",
   "execution_count": null,
   "id": "02587c0b",
   "metadata": {},
   "outputs": [],
   "source": []
  },
  {
   "cell_type": "code",
   "execution_count": null,
   "id": "b282f085",
   "metadata": {},
   "outputs": [],
   "source": []
  }
 ],
 "metadata": {
  "kernelspec": {
   "display_name": "Python 3 (ipykernel)",
   "language": "python",
   "name": "python3"
  },
  "language_info": {
   "codemirror_mode": {
    "name": "ipython",
    "version": 3
   },
   "file_extension": ".py",
   "mimetype": "text/x-python",
   "name": "python",
   "nbconvert_exporter": "python",
   "pygments_lexer": "ipython3",
   "version": "3.11.3"
  }
 },
 "nbformat": 4,
 "nbformat_minor": 5
}
