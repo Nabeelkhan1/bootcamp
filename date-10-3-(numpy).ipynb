{
 "cells": [
  {
   "cell_type": "markdown",
   "id": "ede79904",
   "metadata": {},
   "source": [
    "# numpy\n",
    "-"
   ]
  },
  {
   "cell_type": "code",
   "execution_count": 47,
   "id": "3e63beb6",
   "metadata": {},
   "outputs": [
    {
     "data": {
      "text/plain": [
       "array([3, 4])"
      ]
     },
     "execution_count": 47,
     "metadata": {},
     "output_type": "execute_result"
    }
   ],
   "source": [
    "import numpy as np\n",
    "list=[1,2,3,4,5,6,7,8,9,]\n",
    "li=np.array(list)\n",
    "li[2:4]\n"
   ]
  },
  {
   "cell_type": "code",
   "execution_count": 25,
   "id": "1d0584b8",
   "metadata": {},
   "outputs": [
    {
     "data": {
      "text/plain": [
       "array([ 2,  4,  6,  8, 10, 12, 14, 16, 18])"
      ]
     },
     "execution_count": 25,
     "metadata": {},
     "output_type": "execute_result"
    }
   ],
   "source": [
    "#vectorized operations\n",
    "li*2"
   ]
  },
  {
   "cell_type": "code",
   "execution_count": 26,
   "id": "39b20938",
   "metadata": {},
   "outputs": [
    {
     "data": {
      "text/plain": [
       "array([0.5, 1. , 1.5, 2. , 2.5, 3. , 3.5, 4. , 4.5])"
      ]
     },
     "execution_count": 26,
     "metadata": {},
     "output_type": "execute_result"
    }
   ],
   "source": [
    "li/2"
   ]
  },
  {
   "cell_type": "code",
   "execution_count": 27,
   "id": "b7a88507",
   "metadata": {},
   "outputs": [
    {
     "data": {
      "text/plain": [
       "9"
      ]
     },
     "execution_count": 27,
     "metadata": {},
     "output_type": "execute_result"
    }
   ],
   "source": [
    "li.size"
   ]
  },
  {
   "cell_type": "code",
   "execution_count": 31,
   "id": "98c251cf",
   "metadata": {},
   "outputs": [
    {
     "data": {
      "text/plain": [
       "1"
      ]
     },
     "execution_count": 31,
     "metadata": {},
     "output_type": "execute_result"
    }
   ],
   "source": [
    "li.ndim"
   ]
  },
  {
   "cell_type": "code",
   "execution_count": 39,
   "id": "2928a587",
   "metadata": {},
   "outputs": [
    {
     "data": {
      "text/plain": [
       "array([ 0,  1,  2,  3,  4,  5,  6,  7,  8,  9, 10, 11, 12, 13, 14, 15, 16,\n",
       "       17, 18, 19])"
      ]
     },
     "execution_count": 39,
     "metadata": {},
     "output_type": "execute_result"
    }
   ],
   "source": [
    "#using numpy a range we can create list\n",
    "\n",
    "arr1=np.arange(20)\n",
    "arr1"
   ]
  },
  {
   "cell_type": "code",
   "execution_count": 41,
   "id": "8bb8c0d0",
   "metadata": {},
   "outputs": [
    {
     "data": {
      "text/plain": [
       "array([[  1,   2,   3],\n",
       "       [ 11,  22,  33],\n",
       "       [111, 222, 333]])"
      ]
     },
     "execution_count": 41,
     "metadata": {},
     "output_type": "execute_result"
    }
   ],
   "source": [
    "#2d array\n",
    "\n",
    "array2=[[1,2,3],[11,22,33],[111,222,333]]\n",
    "arr2=np.array(array2)\n",
    "arr2"
   ]
  },
  {
   "cell_type": "code",
   "execution_count": 80,
   "id": "a3292502",
   "metadata": {},
   "outputs": [
    {
     "data": {
      "text/plain": [
       "array([33])"
      ]
     },
     "execution_count": 80,
     "metadata": {},
     "output_type": "execute_result"
    }
   ],
   "source": [
    "arr2[1,2:3] #this is one dimension aray because of 1st index"
   ]
  },
  {
   "cell_type": "code",
   "execution_count": 60,
   "id": "1978363d",
   "metadata": {},
   "outputs": [
    {
     "data": {
      "text/plain": [
       "array([[ 0,  1,  2,  3,  4,  5,  6,  7,  8],\n",
       "       [ 9, 10, 11, 12, 13, 14, 15, 16, 17],\n",
       "       [18, 19, 20, 21, 22, 23, 24, 25, 26],\n",
       "       [27, 28, 29, 30, 31, 32, 33, 34, 35]])"
      ]
     },
     "execution_count": 60,
     "metadata": {},
     "output_type": "execute_result"
    }
   ],
   "source": [
    "arr2d=np.arange(36).reshape(4,9)\n",
    "arr2d"
   ]
  },
  {
   "cell_type": "code",
   "execution_count": 61,
   "id": "eb6f50a3",
   "metadata": {},
   "outputs": [
    {
     "data": {
      "text/plain": [
       "array([[20, 21, 22]])"
      ]
     },
     "execution_count": 61,
     "metadata": {},
     "output_type": "execute_result"
    }
   ],
   "source": [
    "arr2d[2:3,2:5] #for slicing you need to give the 4 values or : is compulsary for both values"
   ]
  },
  {
   "cell_type": "code",
   "execution_count": 62,
   "id": "282fc272",
   "metadata": {},
   "outputs": [
    {
     "data": {
      "text/plain": [
       "array([[14, 15],\n",
       "       [23, 24]])"
      ]
     },
     "execution_count": 62,
     "metadata": {},
     "output_type": "execute_result"
    }
   ],
   "source": [
    "arr2d[1:3,5:7]"
   ]
  },
  {
   "cell_type": "code",
   "execution_count": 67,
   "id": "8a416cd0",
   "metadata": {},
   "outputs": [
    {
     "data": {
      "text/plain": [
       "array([[ 6,  7,  8],\n",
       "       [15, 16, 17],\n",
       "       [24, 25, 26],\n",
       "       [33, 34, 35]])"
      ]
     },
     "execution_count": 67,
     "metadata": {},
     "output_type": "execute_result"
    }
   ],
   "source": [
    "arr2d[0:,6:]"
   ]
  },
  {
   "cell_type": "markdown",
   "id": "b2b158ee",
   "metadata": {},
   "source": [
    "# fancy indexing"
   ]
  },
  {
   "cell_type": "code",
   "execution_count": 68,
   "id": "64b4912c",
   "metadata": {},
   "outputs": [
    {
     "data": {
      "text/plain": [
       "array([[ 0,  1,  2,  3,  4,  5,  6,  7,  8],\n",
       "       [ 9, 10, 11, 12, 13, 14, 15, 16, 17],\n",
       "       [18, 19, 20, 21, 22, 23, 24, 25, 26],\n",
       "       [27, 28, 29, 30, 31, 32, 33, 34, 35]])"
      ]
     },
     "execution_count": 68,
     "metadata": {},
     "output_type": "execute_result"
    }
   ],
   "source": [
    "arr2d"
   ]
  },
  {
   "cell_type": "code",
   "execution_count": 69,
   "id": "9ebaf687",
   "metadata": {},
   "outputs": [
    {
     "data": {
      "text/plain": [
       "array([[ 5,  8,  0,  3],\n",
       "       [14, 17,  9, 12],\n",
       "       [23, 26, 18, 21],\n",
       "       [32, 35, 27, 30]])"
      ]
     },
     "execution_count": 69,
     "metadata": {},
     "output_type": "execute_result"
    }
   ],
   "source": [
    "arr2d[:,[5,8,0,3]]"
   ]
  },
  {
   "cell_type": "code",
   "execution_count": 81,
   "id": "e4652f2d",
   "metadata": {},
   "outputs": [
    {
     "data": {
      "text/plain": [
       "array([[ 9, 10, 11, 12, 13],\n",
       "       [27, 28, 29, 30, 31]])"
      ]
     },
     "execution_count": 81,
     "metadata": {},
     "output_type": "execute_result"
    }
   ],
   "source": [
    "arr2d[[1,3],:5]"
   ]
  },
  {
   "cell_type": "code",
   "execution_count": 77,
   "id": "8e1a511b",
   "metadata": {},
   "outputs": [
    {
     "data": {
      "text/plain": [
       "array([12, 23])"
      ]
     },
     "execution_count": 77,
     "metadata": {},
     "output_type": "execute_result"
    }
   ],
   "source": [
    "arr2d[[1,2],[3,5]]"
   ]
  },
  {
   "cell_type": "code",
   "execution_count": 82,
   "id": "bc2d5200",
   "metadata": {},
   "outputs": [
    {
     "data": {
      "text/plain": [
       "array([[ 0,  2,  4,  6,  8],\n",
       "       [ 9, 11, 13, 15, 17],\n",
       "       [18, 20, 22, 24, 26],\n",
       "       [27, 29, 31, 33, 35]])"
      ]
     },
     "execution_count": 82,
     "metadata": {},
     "output_type": "execute_result"
    }
   ],
   "source": [
    "arr2d[:,::2]"
   ]
  },
  {
   "cell_type": "code",
   "execution_count": 83,
   "id": "8fa2dd6b",
   "metadata": {},
   "outputs": [
    {
     "data": {
      "text/plain": [
       "array([[ 8,  6,  4,  2,  0],\n",
       "       [17, 15, 13, 11,  9],\n",
       "       [26, 24, 22, 20, 18],\n",
       "       [35, 33, 31, 29, 27]])"
      ]
     },
     "execution_count": 83,
     "metadata": {},
     "output_type": "execute_result"
    }
   ],
   "source": [
    "arr2d[:,::-2]"
   ]
  },
  {
   "cell_type": "code",
   "execution_count": 87,
   "id": "5a2412ec",
   "metadata": {},
   "outputs": [],
   "source": [
    "arr3d=np.arange(64).reshape(4,4,4)"
   ]
  },
  {
   "cell_type": "code",
   "execution_count": 205,
   "id": "81fc5fc6",
   "metadata": {},
   "outputs": [
    {
     "data": {
      "text/plain": [
       "array([[[ 0,  1,  2,  3],\n",
       "        [ 4,  5,  6,  7],\n",
       "        [ 8,  9, 10, 11],\n",
       "        [12, 13, 14, 15]],\n",
       "\n",
       "       [[16, 17, 18, 19],\n",
       "        [20, 21, 22, 23],\n",
       "        [24, 25, 26, 27],\n",
       "        [28, 29, 30, 31]],\n",
       "\n",
       "       [[32, 33, 34, 35],\n",
       "        [36, 37, 38, 39],\n",
       "        [40, 41, 42, 43],\n",
       "        [44, 45, 46, 47]],\n",
       "\n",
       "       [[48, 49, 50, 51],\n",
       "        [52, 53, 54, 55],\n",
       "        [56, 57, 58, 59],\n",
       "        [60, 61, 62, 63]]])"
      ]
     },
     "execution_count": 205,
     "metadata": {},
     "output_type": "execute_result"
    }
   ],
   "source": [
    "arr3d"
   ]
  },
  {
   "cell_type": "code",
   "execution_count": 123,
   "id": "c4f1d706",
   "metadata": {},
   "outputs": [
    {
     "data": {
      "text/plain": [
       "array([[[ 9, 10]],\n",
       "\n",
       "       [[25, 26]],\n",
       "\n",
       "       [[41, 42]],\n",
       "\n",
       "       [[57, 58]]])"
      ]
     },
     "execution_count": 123,
     "metadata": {},
     "output_type": "execute_result"
    }
   ],
   "source": [
    "arr3d[:,2:3,1:3]"
   ]
  },
  {
   "cell_type": "code",
   "execution_count": 124,
   "id": "86c2003d",
   "metadata": {},
   "outputs": [],
   "source": [
    "a=np.random.randn(4,4)"
   ]
  },
  {
   "cell_type": "code",
   "execution_count": 125,
   "id": "47bfb261",
   "metadata": {},
   "outputs": [
    {
     "data": {
      "text/plain": [
       "array([[-0.44415177, -2.34009148,  1.04412446,  2.57742047],\n",
       "       [ 0.30604826,  1.68675561,  0.63297834, -0.08169327],\n",
       "       [-0.613453  , -0.50134753,  0.06771418,  0.87991665],\n",
       "       [-0.54104102,  0.21459313, -0.1148315 , -0.40961966]])"
      ]
     },
     "execution_count": 125,
     "metadata": {},
     "output_type": "execute_result"
    }
   ],
   "source": [
    "a"
   ]
  },
  {
   "cell_type": "code",
   "execution_count": 126,
   "id": "fa69ae70",
   "metadata": {},
   "outputs": [],
   "source": [
    "b=np.random.randn(4,4)"
   ]
  },
  {
   "cell_type": "code",
   "execution_count": 127,
   "id": "a249e0ca",
   "metadata": {},
   "outputs": [
    {
     "data": {
      "text/plain": [
       "array([[ 1.40190346,  0.08682056,  0.84589132,  0.00540464],\n",
       "       [-2.53545744, -0.52204366,  0.35382032, -1.01416346],\n",
       "       [ 0.27165199,  0.65688957, -1.57492444,  1.43323983],\n",
       "       [ 0.45189211, -0.84200357, -0.04469738, -0.31582314]])"
      ]
     },
     "execution_count": 127,
     "metadata": {},
     "output_type": "execute_result"
    }
   ],
   "source": [
    "b"
   ]
  },
  {
   "cell_type": "code",
   "execution_count": 149,
   "id": "e0bda4a0",
   "metadata": {},
   "outputs": [
    {
     "data": {
      "text/plain": [
       "array([[ 0.95775169, -2.25327092,  1.89001577,  2.58282511],\n",
       "       [-2.22940917,  1.16471195,  0.98679866, -1.09585673],\n",
       "       [-0.341801  ,  0.15554204, -1.50721026,  2.31315648],\n",
       "       [-0.08914891, -0.62741044, -0.15952888, -0.7254428 ]])"
      ]
     },
     "execution_count": 149,
     "metadata": {},
     "output_type": "execute_result"
    }
   ],
   "source": [
    "a+b"
   ]
  },
  {
   "cell_type": "code",
   "execution_count": 129,
   "id": "309eeab4",
   "metadata": {},
   "outputs": [
    {
     "data": {
      "text/plain": [
       "array([[ 6.75889889, -0.30125434, -2.96329712,  3.05330651],\n",
       "       [-3.71261366, -0.3694059 , -0.13754962, -0.77598142],\n",
       "       [ 0.82716552, -0.48794725, -0.8422762 ,  0.32428547],\n",
       "       [-1.51887713,  0.11046913, -0.18257463, -0.25577036]])"
      ]
     },
     "execution_count": 129,
     "metadata": {},
     "output_type": "execute_result"
    }
   ],
   "source": [
    "a@b #@ is used for matrix multiplication"
   ]
  },
  {
   "cell_type": "code",
   "execution_count": 136,
   "id": "23a97885",
   "metadata": {},
   "outputs": [
    {
     "data": {
      "text/plain": [
       "array([[ 0,  1,  2,  3,  4],\n",
       "       [ 5,  6,  7,  8,  9],\n",
       "       [10, 11, 12, 13, 14],\n",
       "       [15, 16, 17, 18, 19]])"
      ]
     },
     "execution_count": 136,
     "metadata": {},
     "output_type": "execute_result"
    }
   ],
   "source": [
    "a1=np.arange(20).reshape(4,5)\n",
    "a1"
   ]
  },
  {
   "cell_type": "code",
   "execution_count": 137,
   "id": "2ccd7ab6",
   "metadata": {},
   "outputs": [
    {
     "data": {
      "text/plain": [
       "array([[ 0,  1,  2,  3,  4],\n",
       "       [ 5,  6,  7,  8,  9],\n",
       "       [10, 11, 12, 13, 14],\n",
       "       [15, 16, 17, 18, 19],\n",
       "       [20, 21, 22, 23, 24]])"
      ]
     },
     "execution_count": 137,
     "metadata": {},
     "output_type": "execute_result"
    }
   ],
   "source": [
    "a2=np.arange(25).reshape(5,5)\n",
    "a2"
   ]
  },
  {
   "cell_type": "code",
   "execution_count": 135,
   "id": "b795f8f1",
   "metadata": {},
   "outputs": [
    {
     "data": {
      "text/plain": [
       "array([[ 150,  160,  170,  180,  190],\n",
       "       [ 400,  435,  470,  505,  540],\n",
       "       [ 650,  710,  770,  830,  890],\n",
       "       [ 900,  985, 1070, 1155, 1240]])"
      ]
     },
     "execution_count": 135,
     "metadata": {},
     "output_type": "execute_result"
    }
   ],
   "source": [
    "a1@a2"
   ]
  },
  {
   "cell_type": "code",
   "execution_count": 141,
   "id": "53ed60ec",
   "metadata": {},
   "outputs": [
    {
     "data": {
      "text/plain": [
       "array([[1, 1, 1, 1, 1],\n",
       "       [1, 1, 1, 1, 1],\n",
       "       [1, 1, 1, 1, 1],\n",
       "       [1, 1, 1, 1, 1]])"
      ]
     },
     "execution_count": 141,
     "metadata": {},
     "output_type": "execute_result"
    }
   ],
   "source": [
    "np.ones_like(a1)"
   ]
  },
  {
   "cell_type": "code",
   "execution_count": 145,
   "id": "1db3ed40",
   "metadata": {},
   "outputs": [
    {
     "data": {
      "text/plain": [
       "array([ 1.        ,  2.61904762,  4.23809524,  5.85714286,  7.47619048,\n",
       "        9.0952381 , 10.71428571, 12.33333333, 13.95238095, 15.57142857,\n",
       "       17.19047619, 18.80952381, 20.42857143, 22.04761905, 23.66666667,\n",
       "       25.28571429, 26.9047619 , 28.52380952, 30.14285714, 31.76190476,\n",
       "       33.38095238, 35.        ])"
      ]
     },
     "execution_count": 145,
     "metadata": {},
     "output_type": "execute_result"
    }
   ],
   "source": [
    "np.linspace(1,35,22) #break value in given point"
   ]
  },
  {
   "cell_type": "code",
   "execution_count": 156,
   "id": "d3f08753",
   "metadata": {},
   "outputs": [
    {
     "data": {
      "text/plain": [
       "array([False, False, False, False, False,  True,  True,  True,  True])"
      ]
     },
     "execution_count": 156,
     "metadata": {},
     "output_type": "execute_result"
    }
   ],
   "source": [
    "list=np.array([1,2,3,4,5,6,7,8,9,])\n",
    "list>5"
   ]
  },
  {
   "cell_type": "code",
   "execution_count": 170,
   "id": "daffb092",
   "metadata": {},
   "outputs": [
    {
     "ename": "TypeError",
     "evalue": "'>' not supported between instances of 'list' and 'int'",
     "output_type": "error",
     "traceback": [
      "\u001b[1;31m---------------------------------------------------------------------------\u001b[0m",
      "\u001b[1;31mTypeError\u001b[0m                                 Traceback (most recent call last)",
      "Cell \u001b[1;32mIn[170], line 1\u001b[0m\n\u001b[1;32m----> 1\u001b[0m \u001b[38;5;28mlist\u001b[39m\u001b[38;5;241m>\u001b[39m\u001b[38;5;241m5\u001b[39m\n",
      "\u001b[1;31mTypeError\u001b[0m: '>' not supported between instances of 'list' and 'int'"
     ]
    }
   ],
   "source": [
    "list>5"
   ]
  },
  {
   "cell_type": "code",
   "execution_count": 171,
   "id": "bb63e12d",
   "metadata": {},
   "outputs": [],
   "source": [
    "#list[list>5]"
   ]
  },
  {
   "cell_type": "code",
   "execution_count": 174,
   "id": "a4873094",
   "metadata": {},
   "outputs": [
    {
     "ename": "IndexError",
     "evalue": "boolean index did not match indexed array along dimension 0; dimension is 9 but corresponding boolean dimension is 10",
     "output_type": "error",
     "traceback": [
      "\u001b[1;31m---------------------------------------------------------------------------\u001b[0m",
      "\u001b[1;31mIndexError\u001b[0m                                Traceback (most recent call last)",
      "Cell \u001b[1;32mIn[174], line 3\u001b[0m\n\u001b[0;32m      1\u001b[0m \u001b[38;5;28mlist\u001b[39m\u001b[38;5;241m=\u001b[39mnp\u001b[38;5;241m.\u001b[39marray([\u001b[38;5;241m1\u001b[39m,\u001b[38;5;241m2\u001b[39m,\u001b[38;5;241m3\u001b[39m,\u001b[38;5;241m4\u001b[39m,\u001b[38;5;241m5\u001b[39m,\u001b[38;5;241m6\u001b[39m,\u001b[38;5;241m7\u001b[39m,\u001b[38;5;241m8\u001b[39m,\u001b[38;5;241m9\u001b[39m,])\n\u001b[0;32m      2\u001b[0m a\u001b[38;5;241m=\u001b[39m[\u001b[38;5;28;01mTrue\u001b[39;00m,\u001b[38;5;28;01mFalse\u001b[39;00m,\u001b[38;5;28;01mTrue\u001b[39;00m,\u001b[38;5;28;01mFalse\u001b[39;00m,\u001b[38;5;28;01mTrue\u001b[39;00m,\u001b[38;5;28;01mFalse\u001b[39;00m,\u001b[38;5;28;01mTrue\u001b[39;00m,\u001b[38;5;28;01mFalse\u001b[39;00m,\u001b[38;5;28;01mTrue\u001b[39;00m,\u001b[38;5;28;01mFalse\u001b[39;00m]\n\u001b[1;32m----> 3\u001b[0m \u001b[38;5;28mlist\u001b[39m[a]\n",
      "\u001b[1;31mIndexError\u001b[0m: boolean index did not match indexed array along dimension 0; dimension is 9 but corresponding boolean dimension is 10"
     ]
    }
   ],
   "source": [
    "list=np.array([1,2,3,4,5,6,7,8,9,])\n",
    "a=[True,False,True,False,True,False,True,False,True,False]\n",
    "list[a]"
   ]
  },
  {
   "cell_type": "code",
   "execution_count": 182,
   "id": "64ed2eff",
   "metadata": {},
   "outputs": [
    {
     "data": {
      "text/plain": [
       "array([[ 0,  1,  2,  3,  4,  5,  6,  7,  8],\n",
       "       [ 9, 10, 11, 12, 13, 14, 15, 16, 17],\n",
       "       [18, 19, 20, 21, 22, 23, 24, 25, 26],\n",
       "       [27, 28, 29, 30, 31, 32, 33, 34, 35]])"
      ]
     },
     "execution_count": 182,
     "metadata": {},
     "output_type": "execute_result"
    }
   ],
   "source": [
    "arr2d"
   ]
  },
  {
   "cell_type": "code",
   "execution_count": 183,
   "id": "9c3500bb",
   "metadata": {},
   "outputs": [
    {
     "data": {
      "text/plain": [
       "array([11, 12, 13, 14, 15, 16, 17, 18, 19, 20, 21, 22, 23, 24, 25, 26, 27,\n",
       "       28, 29, 30, 31, 32, 33, 34, 35])"
      ]
     },
     "execution_count": 183,
     "metadata": {},
     "output_type": "execute_result"
    }
   ],
   "source": [
    "arr2d[arr2d>10]"
   ]
  },
  {
   "cell_type": "code",
   "execution_count": 194,
   "id": "bb2bedab",
   "metadata": {},
   "outputs": [
    {
     "data": {
      "text/plain": [
       "array([11, 12, 13, 14, 15, 16, 17, 18, 19, 20, 21, 22, 23, 24, 25, 26, 27,\n",
       "       28, 29, 30, 31, 32, 33, 34, 35])"
      ]
     },
     "execution_count": 194,
     "metadata": {},
     "output_type": "execute_result"
    }
   ],
   "source": [
    "arr2d [(arr2d>10) & (arr2d<250)]"
   ]
  },
  {
   "cell_type": "code",
   "execution_count": 213,
   "id": "20ed8976",
   "metadata": {},
   "outputs": [],
   "source": [
    "array3=arr3d.ravel()#make a copy but change value in original one"
   ]
  },
  {
   "cell_type": "code",
   "execution_count": 216,
   "id": "cff45011",
   "metadata": {},
   "outputs": [],
   "source": [
    "array3[20:40]=100"
   ]
  },
  {
   "cell_type": "code",
   "execution_count": 217,
   "id": "cf82ed19",
   "metadata": {},
   "outputs": [
    {
     "data": {
      "text/plain": [
       "array([  0,   1,   2,   3,   4,   5,   6,   7,   8,   9,  10,  11,  12,\n",
       "        13,  14,  15,  16,  17,  18,  19, 100, 100, 100, 100, 100, 100,\n",
       "       100, 100, 100, 100, 100, 100, 100, 100, 100, 100, 100, 100, 100,\n",
       "       100,  40,  41,  42,  43,  44,  45,  46,  47,  48,  49,  50,  51,\n",
       "        52,  53,  54,  55,  56,  57,  58,  59,  60,  61,  62,  63])"
      ]
     },
     "execution_count": 217,
     "metadata": {},
     "output_type": "execute_result"
    }
   ],
   "source": [
    "array3"
   ]
  },
  {
   "cell_type": "code",
   "execution_count": 225,
   "id": "4772953e",
   "metadata": {},
   "outputs": [
    {
     "data": {
      "text/plain": [
       "array([[[  0,   1,   2,   3],\n",
       "        [  4,   5,   6,   7],\n",
       "        [  8,   9,  10,  11],\n",
       "        [ 12,  13,  14,  15]],\n",
       "\n",
       "       [[ 16,  17,  18,  19],\n",
       "        [100, 100, 100, 100],\n",
       "        [100, 100, 100, 100],\n",
       "        [100, 100, 100, 100]],\n",
       "\n",
       "       [[100, 100, 100, 100],\n",
       "        [100, 100, 100, 100],\n",
       "        [ 40,  41,  42,  43],\n",
       "        [ 44,  45,  46,  47]],\n",
       "\n",
       "       [[ 48,  49,  50,  51],\n",
       "        [ 52,  53,  54,  55],\n",
       "        [ 56,  57,  58,  59],\n",
       "        [ 60,  61,  62,  63]]])"
      ]
     },
     "execution_count": 225,
     "metadata": {},
     "output_type": "execute_result"
    }
   ],
   "source": [
    "arr3d"
   ]
  },
  {
   "cell_type": "code",
   "execution_count": null,
   "id": "7f2a5414",
   "metadata": {},
   "outputs": [],
   "source": []
  },
  {
   "cell_type": "code",
   "execution_count": 226,
   "id": "13ea8644",
   "metadata": {},
   "outputs": [
    {
     "data": {
      "text/plain": [
       "array([  0,   1,   2,   3,   4,   5,   6,   7,   8,   9,  10,  11,  12,\n",
       "        13,  14,  15,  16,  17,  18,  19, 100, 100, 100, 100, 100, 100,\n",
       "       100, 100, 100, 100, 100, 100, 100, 100, 100, 100, 100, 100, 100,\n",
       "       100,  40,  41,  42,  43,  44,  45,  46,  47,  48,  49,  50,  51,\n",
       "        52,  53,  54,  55,  56,  57,  58,  59,  60,  61,  62,  63])"
      ]
     },
     "execution_count": 226,
     "metadata": {},
     "output_type": "execute_result"
    }
   ],
   "source": [
    "arr3d.flatten()#make copy and not change in original one"
   ]
  },
  {
   "cell_type": "code",
   "execution_count": 227,
   "id": "8a8b7f7a",
   "metadata": {},
   "outputs": [
    {
     "data": {
      "text/plain": [
       "array([  0,   1,   2,   3,   4,   5,   6,   7,   8,   9,  10,  11,  12,\n",
       "        13,  14,  15,  16,  17,  18,  19, 100, 100, 100, 100, 100, 100,\n",
       "       100, 100, 100, 100, 100, 100, 100, 100, 100, 100, 100, 100, 100,\n",
       "       100,  40,  41,  42,  43,  44,  45,  46,  47,  48,  49,  50,  51,\n",
       "        52,  53,  54,  55,  56,  57,  58,  59,  60,  61,  62,  63])"
      ]
     },
     "execution_count": 227,
     "metadata": {},
     "output_type": "execute_result"
    }
   ],
   "source": [
    "arr3d.reshape(64) #work like ravel"
   ]
  },
  {
   "cell_type": "code",
   "execution_count": 228,
   "id": "a2a2dd14",
   "metadata": {},
   "outputs": [
    {
     "data": {
      "text/plain": [
       "array([[[  0,   1,   2,   3],\n",
       "        [  4,   5,   6,   7],\n",
       "        [  8,   9,  10,  11],\n",
       "        [ 12,  13,  14,  15]],\n",
       "\n",
       "       [[ 16,  17,  18,  19],\n",
       "        [100, 100, 100, 100],\n",
       "        [100, 100, 100, 100],\n",
       "        [100, 100, 100, 100]],\n",
       "\n",
       "       [[100, 100, 100, 100],\n",
       "        [100, 100, 100, 100],\n",
       "        [ 40,  41,  42,  43],\n",
       "        [ 44,  45,  46,  47]],\n",
       "\n",
       "       [[ 48,  49,  50,  51],\n",
       "        [ 52,  53,  54,  55],\n",
       "        [ 56,  57,  58,  59],\n",
       "        [ 60,  61,  62,  63]]])"
      ]
     },
     "execution_count": 228,
     "metadata": {},
     "output_type": "execute_result"
    }
   ],
   "source": [
    "arr3d"
   ]
  },
  {
   "cell_type": "markdown",
   "id": "a5474de2",
   "metadata": {},
   "source": [
    "# concatenation of arrays"
   ]
  },
  {
   "cell_type": "code",
   "execution_count": 258,
   "id": "2a576089",
   "metadata": {},
   "outputs": [
    {
     "data": {
      "text/plain": [
       "array([[ 0,  1,  2,  3,  4,  5,  6,  7,  8],\n",
       "       [ 9, 10, 11, 12, 13, 14, 15, 16, 17],\n",
       "       [18, 19, 20, 21, 22, 23, 24, 25, 26],\n",
       "       [27, 28, 29, 30, 31, 32, 33, 34, 35]])"
      ]
     },
     "execution_count": 258,
     "metadata": {},
     "output_type": "execute_result"
    }
   ],
   "source": [
    "arr2d"
   ]
  },
  {
   "cell_type": "code",
   "execution_count": 259,
   "id": "87467163",
   "metadata": {},
   "outputs": [
    {
     "data": {
      "text/plain": [
       "array([[ 0,  2,  4,  6,  8, 10, 12, 14, 16],\n",
       "       [18, 20, 22, 24, 26, 28, 30, 32, 34],\n",
       "       [36, 38, 40, 42, 44, 46, 48, 50, 52],\n",
       "       [54, 56, 58, 60, 62, 64, 66, 68, 70]])"
      ]
     },
     "execution_count": 259,
     "metadata": {},
     "output_type": "execute_result"
    }
   ],
   "source": [
    "array2d1=arr2d[:]*2\n",
    "array2d1"
   ]
  },
  {
   "cell_type": "code",
   "execution_count": 260,
   "id": "de0140b1",
   "metadata": {},
   "outputs": [],
   "source": [
    "array2d1=np.concatenate([arr2d,array2d1],axis=1)#axis define to write in rows or column its only 0 and 1"
   ]
  },
  {
   "cell_type": "code",
   "execution_count": 261,
   "id": "1b9df231",
   "metadata": {},
   "outputs": [
    {
     "data": {
      "text/plain": [
       "array([[ 0,  1,  2,  3,  4,  5,  6,  7,  8,  0,  2,  4,  6,  8, 10, 12,\n",
       "        14, 16],\n",
       "       [ 9, 10, 11, 12, 13, 14, 15, 16, 17, 18, 20, 22, 24, 26, 28, 30,\n",
       "        32, 34],\n",
       "       [18, 19, 20, 21, 22, 23, 24, 25, 26, 36, 38, 40, 42, 44, 46, 48,\n",
       "        50, 52],\n",
       "       [27, 28, 29, 30, 31, 32, 33, 34, 35, 54, 56, 58, 60, 62, 64, 66,\n",
       "        68, 70]])"
      ]
     },
     "execution_count": 261,
     "metadata": {},
     "output_type": "execute_result"
    }
   ],
   "source": [
    "array2d1"
   ]
  },
  {
   "cell_type": "code",
   "execution_count": null,
   "id": "40ce3d42",
   "metadata": {},
   "outputs": [],
   "source": []
  },
  {
   "cell_type": "code",
   "execution_count": 262,
   "id": "2f6eb0f5",
   "metadata": {},
   "outputs": [
    {
     "data": {
      "text/plain": [
       "array([[ 0,  1,  2,  3,  4,  5,  6,  7,  8],\n",
       "       [ 9, 10, 11, 12, 13, 14, 15, 16, 17],\n",
       "       [18, 19, 20, 21, 22, 23, 24, 25, 26],\n",
       "       [27, 28, 29, 30, 31, 32, 33, 34, 35]])"
      ]
     },
     "execution_count": 262,
     "metadata": {},
     "output_type": "execute_result"
    }
   ],
   "source": [
    "arr2d"
   ]
  },
  {
   "cell_type": "code",
   "execution_count": 266,
   "id": "4f41940b",
   "metadata": {},
   "outputs": [
    {
     "data": {
      "text/plain": [
       "[array([[ 0,  1,  2],\n",
       "        [ 9, 10, 11],\n",
       "        [18, 19, 20],\n",
       "        [27, 28, 29]]),\n",
       " array([[ 3,  4,  5],\n",
       "        [12, 13, 14],\n",
       "        [21, 22, 23],\n",
       "        [30, 31, 32]]),\n",
       " array([[ 6,  7,  8],\n",
       "        [15, 16, 17],\n",
       "        [24, 25, 26],\n",
       "        [33, 34, 35]])]"
      ]
     },
     "execution_count": 266,
     "metadata": {},
     "output_type": "execute_result"
    }
   ],
   "source": [
    "np.split(arr2d,3,axis=1)#axis 1 do vertically split in equal parts"
   ]
  },
  {
   "cell_type": "code",
   "execution_count": 267,
   "id": "8862d29f",
   "metadata": {},
   "outputs": [
    {
     "data": {
      "text/plain": [
       "[array([[ 0,  1,  2,  3,  4,  5,  6,  7,  8],\n",
       "        [ 9, 10, 11, 12, 13, 14, 15, 16, 17]]),\n",
       " array([[18, 19, 20, 21, 22, 23, 24, 25, 26],\n",
       "        [27, 28, 29, 30, 31, 32, 33, 34, 35]])]"
      ]
     },
     "execution_count": 267,
     "metadata": {},
     "output_type": "execute_result"
    }
   ],
   "source": [
    "np.split(arr2d,2,axis=0)#axis 0 split in horizontally in equal parts"
   ]
  },
  {
   "cell_type": "markdown",
   "id": "55afe309",
   "metadata": {},
   "source": [
    "# broadcasting"
   ]
  },
  {
   "cell_type": "code",
   "execution_count": 277,
   "id": "f9b59d54",
   "metadata": {},
   "outputs": [],
   "source": [
    "baray=np.arange(12).reshape(3,4)"
   ]
  },
  {
   "cell_type": "code",
   "execution_count": 278,
   "id": "9547507c",
   "metadata": {},
   "outputs": [
    {
     "data": {
      "text/plain": [
       "array([[ 0,  1,  2,  3],\n",
       "       [ 4,  5,  6,  7],\n",
       "       [ 8,  9, 10, 11]])"
      ]
     },
     "execution_count": 278,
     "metadata": {},
     "output_type": "execute_result"
    }
   ],
   "source": [
    "baray"
   ]
  },
  {
   "cell_type": "code",
   "execution_count": 279,
   "id": "fb2120b3",
   "metadata": {},
   "outputs": [],
   "source": [
    "caray=np.arange(3).reshape(3,1)"
   ]
  },
  {
   "cell_type": "code",
   "execution_count": 280,
   "id": "9ddedff4",
   "metadata": {},
   "outputs": [
    {
     "data": {
      "text/plain": [
       "array([[0],\n",
       "       [1],\n",
       "       [2]])"
      ]
     },
     "execution_count": 280,
     "metadata": {},
     "output_type": "execute_result"
    }
   ],
   "source": [
    "caray"
   ]
  },
  {
   "cell_type": "code",
   "execution_count": 281,
   "id": "0a744933",
   "metadata": {},
   "outputs": [
    {
     "data": {
      "text/plain": [
       "array([[ 0,  1,  2,  3],\n",
       "       [ 5,  6,  7,  8],\n",
       "       [10, 11, 12, 13]])"
      ]
     },
     "execution_count": 281,
     "metadata": {},
     "output_type": "execute_result"
    }
   ],
   "source": [
    "baray+caray"
   ]
  },
  {
   "cell_type": "code",
   "execution_count": 288,
   "id": "dfc7340f",
   "metadata": {},
   "outputs": [],
   "source": [
    "x=np.array([[1],[2],[3]])\n",
    "y=np.array([4,5,6])\n",
    "h=np.broadcast(x,y)"
   ]
  },
  {
   "cell_type": "code",
   "execution_count": 289,
   "id": "22dea495",
   "metadata": {},
   "outputs": [
    {
     "data": {
      "text/plain": [
       "<numpy.broadcast at 0x2164cb90f50>"
      ]
     },
     "execution_count": 289,
     "metadata": {},
     "output_type": "execute_result"
    }
   ],
   "source": [
    "h"
   ]
  },
  {
   "cell_type": "markdown",
   "id": "fd638ca2",
   "metadata": {},
   "source": [
    "# pandas\n",
    "  -series\n",
    "  \n",
    "  -data frame"
   ]
  },
  {
   "cell_type": "code",
   "execution_count": 310,
   "id": "2afbdbe2",
   "metadata": {},
   "outputs": [],
   "source": [
    "import pandas as pd"
   ]
  },
  {
   "cell_type": "code",
   "execution_count": 321,
   "id": "c9cb93e5",
   "metadata": {},
   "outputs": [
    {
     "data": {
      "text/plain": [
       "0     nasir\n",
       "1    nabeel\n",
       "2    nayyar\n",
       "3    farhan\n",
       "dtype: object"
      ]
     },
     "execution_count": 321,
     "metadata": {},
     "output_type": "execute_result"
    }
   ],
   "source": [
    "s1=pd.Series(['nasir','nabeel','nayyar','farhan'])\n",
    "s1"
   ]
  },
  {
   "cell_type": "code",
   "execution_count": 322,
   "id": "bd758dc7",
   "metadata": {},
   "outputs": [
    {
     "data": {
      "text/plain": [
       "'nayyar'"
      ]
     },
     "execution_count": 322,
     "metadata": {},
     "output_type": "execute_result"
    }
   ],
   "source": [
    "s1[2]"
   ]
  },
  {
   "cell_type": "code",
   "execution_count": 324,
   "id": "a9d93f55",
   "metadata": {},
   "outputs": [
    {
     "data": {
      "text/plain": [
       "1    nabeel\n",
       "2    nayyar\n",
       "3    farhan\n",
       "dtype: object"
      ]
     },
     "execution_count": 324,
     "metadata": {},
     "output_type": "execute_result"
    }
   ],
   "source": [
    "s1.loc[1:3]"
   ]
  },
  {
   "cell_type": "code",
   "execution_count": null,
   "id": "db479363",
   "metadata": {},
   "outputs": [],
   "source": []
  },
  {
   "cell_type": "code",
   "execution_count": null,
   "id": "e9128ab2",
   "metadata": {},
   "outputs": [],
   "source": []
  }
 ],
 "metadata": {
  "kernelspec": {
   "display_name": "Python 3 (ipykernel)",
   "language": "python",
   "name": "python3"
  },
  "language_info": {
   "codemirror_mode": {
    "name": "ipython",
    "version": 3
   },
   "file_extension": ".py",
   "mimetype": "text/x-python",
   "name": "python",
   "nbconvert_exporter": "python",
   "pygments_lexer": "ipython3",
   "version": "3.11.3"
  }
 },
 "nbformat": 4,
 "nbformat_minor": 5
}
