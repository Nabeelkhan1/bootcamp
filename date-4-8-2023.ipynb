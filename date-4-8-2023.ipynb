{
 "cells": [
  {
   "cell_type": "code",
   "execution_count": null,
   "id": "e4f33825",
   "metadata": {},
   "outputs": [],
   "source": [
    "text=input(\"enter text: \")\n",
    "vowels=\"aeiouAEIOU\"\n",
    "vowel_count={}\n",
    "for v in vowels:\n",
    "    vowel_count[v]=text.count(v)\n",
    "    vowel_count\n"
   ]
  },
  {
   "cell_type": "code",
   "execution_count": 10,
   "id": "1ddb9221",
   "metadata": {},
   "outputs": [
    {
     "name": "stdout",
     "output_type": "stream",
     "text": [
      "20\n"
     ]
    }
   ],
   "source": [
    "my_dict = {'a': 10, 'b': 5, 'c': 20}\n",
    "max_value = max(my_dict.values())\n",
    "print(max_value)\n"
   ]
  },
  {
   "cell_type": "code",
   "execution_count": 11,
   "id": "87d34740",
   "metadata": {},
   "outputs": [
    {
     "name": "stdout",
     "output_type": "stream",
     "text": [
      "20\n"
     ]
    }
   ],
   "source": [
    "my_dict = {'a': '10', 'b': '5', 'c': '20'}\n",
    "max_value = max(my_dict.values(), key=int)\n",
    "print(max_value)\n"
   ]
  },
  {
   "cell_type": "code",
   "execution_count": null,
   "id": "8f877983",
   "metadata": {},
   "outputs": [],
   "source": [
    "text=input(\"enter text: \")\n",
    "vowels=\"aeiouAEIOU\"\n",
    "vowel_count={}\n",
    "max=0\n",
    "for v in vowels:\n",
    "    vowel_count[v]=text.count(v)\n",
    "    if max<text.count(v):\n",
    "        max=text.count(v)\n",
    "    \n",
    "print(vowel_count)\n",
    "print(f\"max count is, {max}\")"
   ]
  },
  {
   "cell_type": "code",
   "execution_count": null,
   "id": "08261214",
   "metadata": {},
   "outputs": [],
   "source": [
    "text=input(\"enter text: \")\n",
    "vowels=\"aeiouAEIOU\"\n",
    "vowel_count={}\n",
    "for v in vowels:\n",
    "    vowel_count[v]=text.count(v)\n",
    "winner=max(vowel_count,key=vowel_count.get)   \n",
    "winner"
   ]
  },
  {
   "cell_type": "code",
   "execution_count": null,
   "id": "9be52f22",
   "metadata": {},
   "outputs": [],
   "source": [
    "#iteration over dict\n",
    "my_dict = {'a': 10, 'b': 5, 'c': 20}\n",
    "for val in my_dict.values():\n",
    "    print(val)"
   ]
  },
  {
   "cell_type": "code",
   "execution_count": 9,
   "id": "75227018",
   "metadata": {},
   "outputs": [
    {
     "name": "stdout",
     "output_type": "stream",
     "text": [
      "0 hello\n",
      "1 hello\n",
      "2 hello\n",
      "3 hello\n",
      "4 hello\n"
     ]
    }
   ],
   "source": [
    "#while\n",
    "counter=0\n",
    "while counter <5:\n",
    "    print(counter,\"hello\")\n",
    "    counter+=1"
   ]
  },
  {
   "cell_type": "code",
   "execution_count": 2,
   "id": "21ec3495",
   "metadata": {},
   "outputs": [
    {
     "name": "stdout",
     "output_type": "stream",
     "text": [
      "5 hello\n",
      "4 hello\n",
      "3 hello\n",
      "2 hello\n",
      "1 hello\n"
     ]
    }
   ],
   "source": [
    "#while\n",
    "counter=5\n",
    "while counter >0:\n",
    "    print(counter,\"hello\")\n",
    "    counter-=1"
   ]
  },
  {
   "cell_type": "code",
   "execution_count": 3,
   "id": "44401d77",
   "metadata": {},
   "outputs": [
    {
     "name": "stdout",
     "output_type": "stream",
     "text": [
      "enter guest name or pres Q to quit: c\n",
      "enter guest name or pres Q to quit: d\n",
      "enter guest name or pres Q to quit: efew\n",
      "enter guest name or pres Q to quit: fe\n",
      "enter guest name or pres Q to quit: e\n",
      "enter guest name or pres Q to quit: f\n",
      "enter guest name or pres Q to quit: fq\n",
      "enter guest name or pres Q to quit: q\n",
      "enter guest name or pres Q to quit: Q\n",
      "['c', 'd', 'efew', 'fe', 'e', 'f', 'fq', 'q']\n"
     ]
    }
   ],
   "source": [
    "guests=[]\n",
    "while True:\n",
    "    guest=input(\"enter guest name or pres Q to quit: \")\n",
    "    if guest==\"Q\":\n",
    "        break\n",
    "    else:\n",
    "        guests.append(guest)\n",
    "print(guests)        \n"
   ]
  },
  {
   "cell_type": "code",
   "execution_count": 1,
   "id": "a72cc5e5",
   "metadata": {},
   "outputs": [
    {
     "name": "stdout",
     "output_type": "stream",
     "text": [
      "Enter item name: oil\n",
      "Enter item price: 540\n",
      "Enter item name: ghee\n",
      "Enter item price: 500\n",
      "Total amount exceeded 1000. Stopping the program.\n",
      "{'oil': 540, 'ghee': 500}\n"
     ]
    }
   ],
   "source": [
    "shopping_dict = {}\n",
    "total_amount = 0\n",
    "\n",
    "while True:\n",
    "    item = input(\"Enter item name: \")\n",
    "    if not item:\n",
    "        break\n",
    "    price = int(input(\"Enter item price: \"))\n",
    "    shopping_dict[item] = price\n",
    "    total_amount += price\n",
    "    if total_amount > 1000:\n",
    "        print(\"Total amount exceeded 1000. Stopping the program.\")\n",
    "        break\n",
    "\n",
    "print(shopping_dict)\n"
   ]
  },
  {
   "cell_type": "code",
   "execution_count": null,
   "id": "761847f5",
   "metadata": {},
   "outputs": [
    {
     "name": "stdout",
     "output_type": "stream",
     "text": [
      "enter item name or press q to quitrice\n",
      "['rice']\n",
      "300\n",
      "enter item name or press q to quitghee\n",
      "['rice', 'ghee']\n",
      "750\n",
      "enter item name or press q to quitbottle\n",
      "bottlenot in store\n",
      "enter item name or press q to quitoil\n",
      "['rice', 'ghee']\n",
      "750\n",
      "your limit exceeded\n"
     ]
    }
   ],
   "source": [
    "store_items={\"rice\":300,\"oil\":400,\"ghee\":450}\n",
    "cart=[]\n",
    "amt=0\n",
    "\n",
    "while True:\n",
    "    order=input(\"enter item name or press q to quit\")\n",
    "    if order!=\"q\":\n",
    "        if order in store_items.keys():\n",
    "            if(amt+store_items[order])<1000:\n",
    "                amt+=store_items[order]\n",
    "                cart.append(order)\n",
    "                print(cart)\n",
    "                print(amt)\n",
    "            else:\n",
    "                print(cart)\n",
    "                print(amt)\n",
    "                print(\"your limit exceeded\")\n",
    "        else:\n",
    "            print(f\"{order} not in store\")\n",
    "            continue\n",
    "    else:\n",
    "        print(cart)\n",
    "        print(amt)\n",
    "        break\n",
    "        \n",
    "   \n",
    "    "
   ]
  },
  {
   "cell_type": "code",
   "execution_count": null,
   "id": "aa2f3142",
   "metadata": {},
   "outputs": [],
   "source": []
  }
 ],
 "metadata": {
  "kernelspec": {
   "display_name": "Python 3 (ipykernel)",
   "language": "python",
   "name": "python3"
  },
  "language_info": {
   "codemirror_mode": {
    "name": "ipython",
    "version": 3
   },
   "file_extension": ".py",
   "mimetype": "text/x-python",
   "name": "python",
   "nbconvert_exporter": "python",
   "pygments_lexer": "ipython3",
   "version": "3.11.3"
  }
 },
 "nbformat": 4,
 "nbformat_minor": 5
}
