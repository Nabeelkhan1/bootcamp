{
 "cells": [
  {
   "cell_type": "code",
   "execution_count": 47,
   "id": "0d491ace",
   "metadata": {},
   "outputs": [],
   "source": [
    "record1 = {\"mouse\":1000}"
   ]
  },
  {
   "cell_type": "code",
   "execution_count": 32,
   "id": "4aed4aaf",
   "metadata": {},
   "outputs": [
    {
     "data": {
      "text/plain": [
       "{'laptop': 20000, 'keyboard': 6000, 'mouse': 1000}"
      ]
     },
     "execution_count": 32,
     "metadata": {},
     "output_type": "execute_result"
    }
   ],
   "source": [
    "record2 = {\"laptop\":20000,\"keyboard\":6000,\"mouse\":1000}\n",
    "record2"
   ]
  },
  {
   "cell_type": "code",
   "execution_count": 17,
   "id": "8f98ed95",
   "metadata": {},
   "outputs": [
    {
     "data": {
      "text/plain": [
       "6000"
      ]
     },
     "execution_count": 17,
     "metadata": {},
     "output_type": "execute_result"
    }
   ],
   "source": [
    "record2[\"keyboard\"]"
   ]
  },
  {
   "cell_type": "code",
   "execution_count": 20,
   "id": "8506e0f0",
   "metadata": {},
   "outputs": [],
   "source": [
    "del record2['mouse']"
   ]
  },
  {
   "cell_type": "code",
   "execution_count": 21,
   "id": "82caac4b",
   "metadata": {},
   "outputs": [
    {
     "data": {
      "text/plain": [
       "{'laptop': 20000, 'keyboard': 6000}"
      ]
     },
     "execution_count": 21,
     "metadata": {},
     "output_type": "execute_result"
    }
   ],
   "source": [
    "record2"
   ]
  },
  {
   "cell_type": "code",
   "execution_count": 24,
   "id": "66e4c4e8",
   "metadata": {},
   "outputs": [
    {
     "data": {
      "text/plain": [
       "20000"
      ]
     },
     "execution_count": 24,
     "metadata": {},
     "output_type": "execute_result"
    }
   ],
   "source": [
    "record2.pop(\"laptop\")"
   ]
  },
  {
   "cell_type": "code",
   "execution_count": 28,
   "id": "092a6cb4",
   "metadata": {},
   "outputs": [
    {
     "name": "stdout",
     "output_type": "stream",
     "text": [
      "('headphone', 3000)\n"
     ]
    },
    {
     "data": {
      "text/plain": [
       "{'laptop': 20000, 'keyboard': 6000, 'mouse': 1000}"
      ]
     },
     "execution_count": 28,
     "metadata": {},
     "output_type": "execute_result"
    }
   ],
   "source": [
    "record2 = {\"laptop\":20000,\"keyboard\":6000,\"mouse\":1000,'headphone':3000}\n",
    "print(record2.popitem())\n",
    "record2"
   ]
  },
  {
   "cell_type": "code",
   "execution_count": 30,
   "id": "d2a926a0",
   "metadata": {},
   "outputs": [
    {
     "data": {
      "text/plain": [
       "{'laptop': 20000, 'keyboard': 6000, 'mouse': 1000, 'plug': '2000'}"
      ]
     },
     "execution_count": 30,
     "metadata": {},
     "output_type": "execute_result"
    }
   ],
   "source": [
    "record2[\"plug\"]=\"2000\"\n",
    "record2"
   ]
  },
  {
   "cell_type": "code",
   "execution_count": 50,
   "id": "614c913a",
   "metadata": {},
   "outputs": [
    {
     "ename": "SyntaxError",
     "evalue": "invalid syntax (Temp/ipykernel_6640/171650013.py, line 3)",
     "output_type": "error",
     "traceback": [
      "\u001b[1;36m  File \u001b[1;32m\"C:\\Users\\nabee\\AppData\\Local\\Temp/ipykernel_6640/171650013.py\"\u001b[1;36m, line \u001b[1;32m3\u001b[0m\n\u001b[1;33m    \"price\":[120,2000,2500,5000]\u001b[0m\n\u001b[1;37m    ^\u001b[0m\n\u001b[1;31mSyntaxError\u001b[0m\u001b[1;31m:\u001b[0m invalid syntax\n"
     ]
    }
   ],
   "source": [
    "sales={\n",
    "    \"items\":['cel','grinder','tv','laptop']\n",
    "    \"price\":[120,2000,2500,5000]\n",
    "    \"sale_man\":['nasir','waseem','umer','khan']\n",
    "    \"units\":[200,50,30,20]\n",
    "}"
   ]
  },
  {
   "cell_type": "code",
   "execution_count": 34,
   "id": "dbd98ba6",
   "metadata": {},
   "outputs": [
    {
     "data": {
      "text/plain": [
       "dict_keys(['laptop', 'keyboard', 'mouse'])"
      ]
     },
     "execution_count": 34,
     "metadata": {},
     "output_type": "execute_result"
    }
   ],
   "source": [
    "record2.keys()"
   ]
  },
  {
   "cell_type": "code",
   "execution_count": 35,
   "id": "0b6f19ae",
   "metadata": {},
   "outputs": [
    {
     "data": {
      "text/plain": [
       "dict_values([20000, 6000, 1000])"
      ]
     },
     "execution_count": 35,
     "metadata": {},
     "output_type": "execute_result"
    }
   ],
   "source": [
    "record2.values()"
   ]
  },
  {
   "cell_type": "code",
   "execution_count": 36,
   "id": "d7036f39",
   "metadata": {},
   "outputs": [
    {
     "data": {
      "text/plain": [
       "dict_items([('laptop', 20000), ('keyboard', 6000), ('mouse', 1000)])"
      ]
     },
     "execution_count": 36,
     "metadata": {},
     "output_type": "execute_result"
    }
   ],
   "source": [
    "record2.items()"
   ]
  },
  {
   "cell_type": "code",
   "execution_count": 42,
   "id": "30fdae0c",
   "metadata": {},
   "outputs": [
    {
     "data": {
      "text/plain": [
       "{'laptop': 20000,\n",
       " 'keyboard': 6000,\n",
       " 'mouse': 1000,\n",
       " 'contact': '123456',\n",
       " 'course': 'ds'}"
      ]
     },
     "execution_count": 42,
     "metadata": {},
     "output_type": "execute_result"
    }
   ],
   "source": [
    "record2.update({'contact':'123456','course':'ds'})\n",
    "record2"
   ]
  },
  {
   "cell_type": "code",
   "execution_count": 54,
   "id": "0f0aab7b",
   "metadata": {},
   "outputs": [
    {
     "data": {
      "text/plain": [
       "{'laptop': None,\n",
       " 'keyboard': None,\n",
       " 'mouse': None,\n",
       " 'contact': None,\n",
       " 'course': None}"
      ]
     },
     "execution_count": 54,
     "metadata": {},
     "output_type": "execute_result"
    }
   ],
   "source": [
    "record2.fromkeys(record2)"
   ]
  },
  {
   "cell_type": "code",
   "execution_count": 67,
   "id": "ba97407c",
   "metadata": {},
   "outputs": [
    {
     "data": {
      "text/plain": [
       "set"
      ]
     },
     "execution_count": 67,
     "metadata": {},
     "output_type": "execute_result"
    }
   ],
   "source": [
    "d={('foo',100),(\"bar\",200)}\n",
    "type(d)"
   ]
  },
  {
   "cell_type": "code",
   "execution_count": 68,
   "id": "68951085",
   "metadata": {},
   "outputs": [],
   "source": [
    "record2=dict(record1)"
   ]
  },
  {
   "cell_type": "code",
   "execution_count": 69,
   "id": "6e8f8811",
   "metadata": {},
   "outputs": [
    {
     "data": {
      "text/plain": [
       "{'mouse': 1000}"
      ]
     },
     "execution_count": 69,
     "metadata": {},
     "output_type": "execute_result"
    }
   ],
   "source": [
    "record2"
   ]
  },
  {
   "cell_type": "markdown",
   "id": "b3db60b2",
   "metadata": {},
   "source": [
    "# set\n"
   ]
  }
 ],
 "metadata": {
  "kernelspec": {
   "display_name": "Python 3 (ipykernel)",
   "language": "python",
   "name": "python3"
  },
  "language_info": {
   "codemirror_mode": {
    "name": "ipython",
    "version": 3
   },
   "file_extension": ".py",
   "mimetype": "text/x-python",
   "name": "python",
   "nbconvert_exporter": "python",
   "pygments_lexer": "ipython3",
   "version": "3.9.7"
  }
 },
 "nbformat": 4,
 "nbformat_minor": 5
}
