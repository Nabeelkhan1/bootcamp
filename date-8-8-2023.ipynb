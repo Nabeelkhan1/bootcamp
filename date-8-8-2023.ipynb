{
 "cells": [
  {
   "cell_type": "markdown",
   "id": "451db895",
   "metadata": {},
   "source": [
    "# oop\n"
   ]
  },
  {
   "cell_type": "code",
   "execution_count": 3,
   "id": "82810206",
   "metadata": {},
   "outputs": [],
   "source": [
    "class Laptop():\n",
    "    #attributes / characteristics / properties\n",
    "    color=\"blue\"\n",
    "    ram=\"8GB\"\n",
    "    storage= \"750GB\"\n",
    "    make=\"acer\"\n",
    "    model=\"corei5\"\n",
    "    procesor=\"abc\"\n",
    "    \n",
    "    #behaviour / functionality / methods\n",
    "    def switch_on(self):\n",
    "        print(\"laptop is switched on\")\n",
    "    def switch_off(self):\n",
    "        print(\"laptop is shutting down\")\n",
    "        "
   ]
  },
  {
   "cell_type": "code",
   "execution_count": 8,
   "id": "f2d5c4e6",
   "metadata": {},
   "outputs": [
    {
     "data": {
      "text/plain": [
       "'8GB'"
      ]
     },
     "execution_count": 8,
     "metadata": {},
     "output_type": "execute_result"
    }
   ],
   "source": [
    "nabeel_laptop=Laptop()\n",
    "nabeel_laptop.ram\n"
   ]
  },
  {
   "cell_type": "code",
   "execution_count": 6,
   "id": "24e9d829",
   "metadata": {},
   "outputs": [
    {
     "name": "stdout",
     "output_type": "stream",
     "text": [
      "laptop is shutting down\n"
     ]
    }
   ],
   "source": [
    "nabeel_laptop.switch_off()"
   ]
  },
  {
   "cell_type": "code",
   "execution_count": 15,
   "id": "7c040e92",
   "metadata": {},
   "outputs": [],
   "source": [
    "class Laptop():\n",
    "   # constructor / initializer\n",
    "    def __init__(self,color,ram,storage,processor,model,make,generation):\n",
    "        self.color=color\n",
    "        self.ram=ram\n",
    "        self.storage=storage\n",
    "        self.processor=processor\n",
    "        self.model=model\n",
    "        self.make=make\n",
    "        self.generation=generation\n",
    "        \n",
    "    def specification(self):\n",
    "        print(f'''\n",
    "               ram:{self.ram}\n",
    "               generation:{self.generation}\n",
    "               storage:{self.storage}\n",
    "               processor:{self.processor}\n",
    "               model:{self.processor}\n",
    "               make:{self.make}\n",
    "               color:{self.color}\n",
    "        ''')\n",
    "    "
   ]
  },
  {
   "cell_type": "code",
   "execution_count": 19,
   "id": "086710bc",
   "metadata": {},
   "outputs": [],
   "source": [
    "lpt1=Laptop(\"silver\",\"8gb\",\"128gb\",\"corei5\",\"intel\",\"acer\",\"9th\")"
   ]
  },
  {
   "cell_type": "code",
   "execution_count": 20,
   "id": "80df8613",
   "metadata": {},
   "outputs": [
    {
     "data": {
      "text/plain": [
       "'8gb'"
      ]
     },
     "execution_count": 20,
     "metadata": {},
     "output_type": "execute_result"
    }
   ],
   "source": [
    "lpt1.ram\n"
   ]
  },
  {
   "cell_type": "code",
   "execution_count": 18,
   "id": "d48953b9",
   "metadata": {},
   "outputs": [
    {
     "name": "stdout",
     "output_type": "stream",
     "text": [
      "\n",
      "               ram:red\n",
      "               generation:9th\n",
      "               storage:8gb\n",
      "               processor:corei5\n",
      "               model:corei5\n",
      "               make:acer\n",
      "               color:silver\n",
      "        \n"
     ]
    }
   ],
   "source": [
    "lpt1.specification()"
   ]
  },
  {
   "cell_type": "code",
   "execution_count": 23,
   "id": "6e10e7fc",
   "metadata": {},
   "outputs": [],
   "source": [
    "lpt2=Laptop(\"silver\",\"16gb\",\"350\",\"corei7\",\"intel\",\"acer\",\"10th\")"
   ]
  },
  {
   "cell_type": "code",
   "execution_count": 24,
   "id": "49c1158b",
   "metadata": {},
   "outputs": [
    {
     "data": {
      "text/plain": [
       "'16gb'"
      ]
     },
     "execution_count": 24,
     "metadata": {},
     "output_type": "execute_result"
    }
   ],
   "source": [
    "lpt2.ram\n"
   ]
  },
  {
   "cell_type": "code",
   "execution_count": 25,
   "id": "bb4ca725",
   "metadata": {},
   "outputs": [
    {
     "name": "stdout",
     "output_type": "stream",
     "text": [
      "\n",
      "               ram:16gb\n",
      "               generation:10th\n",
      "               storage:350\n",
      "               processor:corei7\n",
      "               model:corei7\n",
      "               make:acer\n",
      "               color:silver\n",
      "        \n"
     ]
    }
   ],
   "source": [
    "lpt2.specification()"
   ]
  },
  {
   "cell_type": "code",
   "execution_count": 73,
   "id": "c072e8db",
   "metadata": {},
   "outputs": [],
   "source": [
    "class Student():\n",
    "    #attributes\n",
    "    shirt=\"blue\"\n",
    "    shoes=\"black\"\n",
    "    semester=\"1st\"\n",
    "    courses=\"DSA\"\n",
    "    attend=\"\"\n",
    "    #functionality\n",
    "    def attendence(self,attend):\n",
    "        if attend>40:\n",
    "            print(\" attendence is ok\")\n",
    "        else:\n",
    "            print(\"short attencence cannot sit in exam\")\n",
    "    def enrollment(self):\n",
    "        print( \"enrolled\")\n",
    "        \n",
    "    def __init__(self,shirt,shoes,semester,courses):\n",
    "        self.shirt=shirt\n",
    "        self.shoes=shoes\n",
    "        self.semester=semester\n",
    "        self.courses=courses\n",
    "\n",
    "    def report(self):\n",
    "        print(f'''\n",
    "                shirt: {self.shirt}\n",
    "                shoes: {self.shoes}\n",
    "                semester: {self.semester}\n",
    "                courses: {self.courses}\n",
    "        ''')"
   ]
  },
  {
   "cell_type": "code",
   "execution_count": 65,
   "id": "28f1fe96",
   "metadata": {},
   "outputs": [],
   "source": [
    "std1=Student(\"blue\",\"grey\",\"4\",\"oop\")"
   ]
  },
  {
   "cell_type": "code",
   "execution_count": 66,
   "id": "f15da2c5",
   "metadata": {},
   "outputs": [
    {
     "data": {
      "text/plain": [
       "'oop'"
      ]
     },
     "execution_count": 66,
     "metadata": {},
     "output_type": "execute_result"
    }
   ],
   "source": [
    "std1.courses"
   ]
  },
  {
   "cell_type": "code",
   "execution_count": 67,
   "id": "110bb2d9",
   "metadata": {},
   "outputs": [
    {
     "data": {
      "text/plain": [
       "'4'"
      ]
     },
     "execution_count": 67,
     "metadata": {},
     "output_type": "execute_result"
    }
   ],
   "source": [
    "std1.semester"
   ]
  },
  {
   "cell_type": "code",
   "execution_count": 68,
   "id": "4c411acc",
   "metadata": {},
   "outputs": [
    {
     "name": "stdout",
     "output_type": "stream",
     "text": [
      "\n",
      "                shirt: blue\n",
      "                shoes: grey\n",
      "                semester: 4\n",
      "                courses: oop\n",
      "        \n"
     ]
    }
   ],
   "source": [
    "std1.report()"
   ]
  },
  {
   "cell_type": "code",
   "execution_count": 76,
   "id": "08548f0a",
   "metadata": {},
   "outputs": [
    {
     "name": "stdout",
     "output_type": "stream",
     "text": [
      " attendence is ok\n"
     ]
    }
   ],
   "source": [
    "Student.attendence(std1,60)"
   ]
  },
  {
   "cell_type": "markdown",
   "id": "9cee7e29",
   "metadata": {},
   "source": [
    "# pillers of oop\n",
    "    -inheritance\n",
    "    -polymorphism\n",
    "    -encapsulation\n",
    "    -abstraction"
   ]
  },
  {
   "cell_type": "markdown",
   "id": "f0323be5",
   "metadata": {},
   "source": [
    "# encapsulation"
   ]
  },
  {
   "cell_type": "code",
   "execution_count": 94,
   "id": "4c67f15e",
   "metadata": {},
   "outputs": [],
   "source": [
    "class Laptop():\n",
    "   # constructor / initializer\n",
    "    def __init__(self,color,ram,storage,processor,model,make,generation):\n",
    "        self.color=color\n",
    "        self.ram=ram\n",
    "        self.storage=storage\n",
    "        self.processor=processor\n",
    "        self.model=model\n",
    "        self.make=make\n",
    "        self.generation=generation\n",
    "        \n",
    "    def specification(self):\n",
    "        print(f'''\n",
    "               ram:{self.ram}\n",
    "               generation:{self.generation}\n",
    "               storage:{self.storage}\n",
    "               processor:{self.processor}\n",
    "               model:{self.processor}\n",
    "               make:{self.make}\n",
    "               color:{self.color}\n",
    "        ''')\n",
    "    def set_color(self,newcolor):\n",
    "        color=[\"black\",\"blue\",\"red\"]\n",
    "        if newcolor in color:\n",
    "            self.color=newcolor\n",
    "        else:\n",
    "            print(\"color not available\")\n",
    "    \n",
    "    def get_color(self):\n",
    "        print(f\"the color of laptop is {self.color}\")\n",
    "        \n",
    "   "
   ]
  },
  {
   "cell_type": "code",
   "execution_count": 95,
   "id": "58d80e33",
   "metadata": {},
   "outputs": [],
   "source": [
    "lpt1=Laptop(\"silver\",\"8gb\",\"128gb\",\"corei5\",\"intel\",\"acer\",\"9th\")"
   ]
  },
  {
   "cell_type": "code",
   "execution_count": 96,
   "id": "66c1460e",
   "metadata": {},
   "outputs": [],
   "source": [
    "lpt1.set_color('blue')\n"
   ]
  },
  {
   "cell_type": "code",
   "execution_count": 97,
   "id": "5e11466d",
   "metadata": {},
   "outputs": [
    {
     "name": "stdout",
     "output_type": "stream",
     "text": [
      "the color of laptop is blue\n"
     ]
    }
   ],
   "source": [
    "lpt1.get_color()"
   ]
  },
  {
   "cell_type": "code",
   "execution_count": 99,
   "id": "d92687cb",
   "metadata": {},
   "outputs": [],
   "source": [
    "from prac import Student"
   ]
  },
  {
   "cell_type": "code",
   "execution_count": 100,
   "id": "9082366a",
   "metadata": {},
   "outputs": [],
   "source": [
    "str1=Student(\"blue\",\"black\",\"5\",\"dsa\")"
   ]
  },
  {
   "cell_type": "code",
   "execution_count": 101,
   "id": "de655d7d",
   "metadata": {},
   "outputs": [
    {
     "data": {
      "text/plain": [
       "'black'"
      ]
     },
     "execution_count": 101,
     "metadata": {},
     "output_type": "execute_result"
    }
   ],
   "source": [
    "str1.shoes"
   ]
  },
  {
   "cell_type": "markdown",
   "id": "a5d08b90",
   "metadata": {},
   "source": [
    "# inheritance"
   ]
  },
  {
   "cell_type": "code",
   "execution_count": 159,
   "id": "cf4508af",
   "metadata": {},
   "outputs": [],
   "source": [
    "class Car():\n",
    "    def __init__(self,model,make,capacity):\n",
    "        self.model=model\n",
    "        self.make=make\n",
    "        self.capacity=capacity\n",
    "        self.odometer_reading=0\n",
    "    def fuel_tank(self):\n",
    "        print(f\"{self.make} car is being filled with fuel\")\n",
    "    def get_milage(self):\n",
    "        print(self.odometer_reading)\n",
    "        print(f\"{self.make} car has traveled {self.odometer_reading}km\")\n",
    "    def set_milage(self,newreading):\n",
    "        if newreading>self.odometer_reading:\n",
    "            self.odometer_reading=newreading\n",
    "        else:\n",
    "            print(\"car meter cannot be reversed\")\n",
    "    def describe_car(self):\n",
    "        print(self.make,self.model,self.capacity,self.odometer_reading)"
   ]
  },
  {
   "cell_type": "code",
   "execution_count": 160,
   "id": "91c62fb6",
   "metadata": {},
   "outputs": [],
   "source": [
    "car1=Car(\"2023\",\"honda\",\"5\")"
   ]
  },
  {
   "cell_type": "code",
   "execution_count": 161,
   "id": "3cf9197f",
   "metadata": {},
   "outputs": [
    {
     "data": {
      "text/plain": [
       "'honda'"
      ]
     },
     "execution_count": 161,
     "metadata": {},
     "output_type": "execute_result"
    }
   ],
   "source": [
    "car1.make"
   ]
  },
  {
   "cell_type": "code",
   "execution_count": 162,
   "id": "ff7093d1",
   "metadata": {},
   "outputs": [
    {
     "data": {
      "text/plain": [
       "'2023'"
      ]
     },
     "execution_count": 162,
     "metadata": {},
     "output_type": "execute_result"
    }
   ],
   "source": [
    "car1.model"
   ]
  },
  {
   "cell_type": "code",
   "execution_count": 163,
   "id": "8967e1f3",
   "metadata": {},
   "outputs": [],
   "source": [
    "class Electric(Car):\n",
    "    def fuel_tank(self):\n",
    "        print(\"electric car has no fuel tank\")\n",
    "    pass"
   ]
  },
  {
   "cell_type": "code",
   "execution_count": 201,
   "id": "960fc205",
   "metadata": {},
   "outputs": [],
   "source": [
    "class Electric(Car):\n",
    "    def __init__ (self,make,model,capacity,wheels,max_speed):\n",
    "        super().__init__(model,make,capacity)\n",
    "        self.wheels=wheels\n",
    "        self.max_speed=max_speed\n",
    "        self.battery_size=\"200amp\"\n",
    "    def fuel_tank(self):\n",
    "        print(\"electric car has no fuel tank\")\n",
    "    pass"
   ]
  },
  {
   "cell_type": "code",
   "execution_count": 203,
   "id": "f66347be",
   "metadata": {},
   "outputs": [],
   "source": [
    "elec1=Electric(\"s\",\"tesla\",\"5\",4,200)"
   ]
  },
  {
   "cell_type": "code",
   "execution_count": 188,
   "id": "ec551802",
   "metadata": {},
   "outputs": [
    {
     "data": {
      "text/plain": [
       "'5'"
      ]
     },
     "execution_count": 188,
     "metadata": {},
     "output_type": "execute_result"
    }
   ],
   "source": [
    "elec1.capacity"
   ]
  },
  {
   "cell_type": "code",
   "execution_count": null,
   "id": "965b91f9",
   "metadata": {},
   "outputs": [],
   "source": []
  },
  {
   "cell_type": "code",
   "execution_count": null,
   "id": "2f525b77",
   "metadata": {},
   "outputs": [],
   "source": []
  },
  {
   "cell_type": "code",
   "execution_count": null,
   "id": "2469fba0",
   "metadata": {},
   "outputs": [],
   "source": []
  },
  {
   "cell_type": "code",
   "execution_count": 196,
   "id": "4a13738a",
   "metadata": {},
   "outputs": [],
   "source": [
    "class Battery():\n",
    "    def __init__(self,manuf,cells,amp,backup):\n",
    "        self.manuf=manuf\n",
    "        self.cells=cells\n",
    "        self.amp=amp\n",
    "        self.backup=backup\n",
    "        "
   ]
  },
  {
   "cell_type": "code",
   "execution_count": 197,
   "id": "f7d7a775",
   "metadata": {},
   "outputs": [],
   "source": [
    "class Electric(Car):\n",
    "    def __init__ (self,make,model,capacity,wheels,max_speed,b_manuf,b_cells,b_amp,b_backup):\n",
    "        super().__init__(model,make,capacity)\n",
    "        self.wheels=wheels\n",
    "        self.max_speed=max_speed\n",
    "        self.battery=Battery(b_manuf,b_cells,b_amp,b_backup)\n",
    "    def fuel_tank(self):\n",
    "        print(\"electric car has no fuel tank\")\n",
    "    pass"
   ]
  },
  {
   "cell_type": "code",
   "execution_count": 198,
   "id": "cad99120",
   "metadata": {},
   "outputs": [],
   "source": [
    "elect1=Electric(\"s\",\"tesla\",\"5\",4,220,\"osaka\",16,\"275amp\",8)"
   ]
  },
  {
   "cell_type": "code",
   "execution_count": 199,
   "id": "d2c1aece",
   "metadata": {},
   "outputs": [
    {
     "data": {
      "text/plain": [
       "8"
      ]
     },
     "execution_count": 199,
     "metadata": {},
     "output_type": "execute_result"
    }
   ],
   "source": [
    "elect1.battery.backup"
   ]
  },
  {
   "cell_type": "code",
   "execution_count": null,
   "id": "a6b0cb72",
   "metadata": {},
   "outputs": [],
   "source": []
  },
  {
   "cell_type": "code",
   "execution_count": null,
   "id": "b7624cf1",
   "metadata": {},
   "outputs": [],
   "source": []
  },
  {
   "cell_type": "code",
   "execution_count": null,
   "id": "e396ce48",
   "metadata": {},
   "outputs": [],
   "source": []
  },
  {
   "cell_type": "code",
   "execution_count": 191,
   "id": "2eb7066f",
   "metadata": {},
   "outputs": [
    {
     "name": "stdout",
     "output_type": "stream",
     "text": [
      "electric car has no fuel tank\n"
     ]
    }
   ],
   "source": [
    "elec1.fuel_tank()"
   ]
  },
  {
   "cell_type": "code",
   "execution_count": 183,
   "id": "e0b4243d",
   "metadata": {},
   "outputs": [],
   "source": [
    "class Student():\n",
    "    #attributes\n",
    "    shirt=\"blue\"\n",
    "    shoes=\"black\"\n",
    "    semester=\"1st\"\n",
    "    courses=\"DSA\"\n",
    "    attend=\"\"\n",
    "    #functionality\n",
    "    def attendence(self,attend):\n",
    "        if attend>40:\n",
    "            print(\" attendence is ok\")\n",
    "        else:\n",
    "            print(\"short attencence cannot sit in exam\")\n",
    "    def enrollment(self):\n",
    "        print( \"enrolled\")\n",
    "        \n",
    "    def __init__(self,shirt,shoes,semester,courses):\n",
    "        self.shirt=shirt\n",
    "        self.shoes=shoes\n",
    "        self.semester=semester\n",
    "        self.courses=courses\n",
    "\n",
    "    def report(self):\n",
    "        print(f'''\n",
    "                shirt: {self.shirt}\n",
    "                shoes: {self.shoes}\n",
    "                semester: {self.semester}\n",
    "                courses: {self.courses}\n",
    "        ''')\n",
    "    "
   ]
  },
  {
   "cell_type": "code",
   "execution_count": 175,
   "id": "3863ab03",
   "metadata": {},
   "outputs": [],
   "source": [
    "class Sports(Student):\n",
    "    def attendence(self,attend):\n",
    "        if attend>20:\n",
    "            print(\" attendence is ok\")\n",
    "        else:\n",
    "            print(\"short attencence cannot sit in exam\")\n",
    "    pass"
   ]
  },
  {
   "cell_type": "code",
   "execution_count": 177,
   "id": "78cdeffa",
   "metadata": {},
   "outputs": [],
   "source": [
    "std1=Sports(\"blue\",\"black\",\"7\",\"bnn\")"
   ]
  },
  {
   "cell_type": "code",
   "execution_count": 179,
   "id": "8df7d4e2",
   "metadata": {},
   "outputs": [
    {
     "data": {
      "text/plain": [
       "'blue'"
      ]
     },
     "execution_count": 179,
     "metadata": {},
     "output_type": "execute_result"
    }
   ],
   "source": [
    "std1.shirt"
   ]
  },
  {
   "cell_type": "code",
   "execution_count": 181,
   "id": "0ba69420",
   "metadata": {},
   "outputs": [
    {
     "name": "stdout",
     "output_type": "stream",
     "text": [
      "short attencence cannot sit in exam\n"
     ]
    }
   ],
   "source": [
    "std1.attendence(20)"
   ]
  },
  {
   "cell_type": "code",
   "execution_count": null,
   "id": "540dc04a",
   "metadata": {},
   "outputs": [],
   "source": []
  },
  {
   "cell_type": "code",
   "execution_count": null,
   "id": "73641e4c",
   "metadata": {},
   "outputs": [],
   "source": []
  },
  {
   "cell_type": "code",
   "execution_count": null,
   "id": "c34b6aaf",
   "metadata": {},
   "outputs": [],
   "source": []
  }
 ],
 "metadata": {
  "kernelspec": {
   "display_name": "Python 3 (ipykernel)",
   "language": "python",
   "name": "python3"
  },
  "language_info": {
   "codemirror_mode": {
    "name": "ipython",
    "version": 3
   },
   "file_extension": ".py",
   "mimetype": "text/x-python",
   "name": "python",
   "nbconvert_exporter": "python",
   "pygments_lexer": "ipython3",
   "version": "3.11.3"
  }
 },
 "nbformat": 4,
 "nbformat_minor": 5
}
