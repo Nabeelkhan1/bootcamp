{
 "cells": [
  {
   "cell_type": "code",
   "execution_count": 1,
   "id": "81b2ccb0",
   "metadata": {},
   "outputs": [
    {
     "name": "stdout",
     "output_type": "stream",
     "text": [
      "0.3508771929824561\n"
     ]
    }
   ],
   "source": [
    "monthly_income_pk=100\n",
    "monthly_income_usd=monthly_income_pk/285\n",
    "print(monthly_income_usd)"
   ]
  },
  {
   "cell_type": "code",
   "execution_count": 5,
   "id": "2eda50a2",
   "metadata": {},
   "outputs": [
    {
     "name": "stdout",
     "output_type": "stream",
     "text": [
      "0.4\n",
      "0.3508771929824561\n"
     ]
    }
   ],
   "source": [
    "print(round(monthly_income_usd,1))\n",
    "print(monthly_income_usd)"
   ]
  },
  {
   "cell_type": "code",
   "execution_count": 7,
   "id": "bbbc7b37",
   "metadata": {},
   "outputs": [
    {
     "name": "stdout",
     "output_type": "stream",
     "text": [
      "enter your favourite no3\n"
     ]
    },
    {
     "data": {
      "text/plain": [
       "3"
      ]
     },
     "execution_count": 7,
     "metadata": {},
     "output_type": "execute_result"
    }
   ],
   "source": [
    "favourite_no=int(input(\"enter your favourite no\"))\n",
    "favourite_no\n"
   ]
  },
  {
   "cell_type": "code",
   "execution_count": 12,
   "id": "c1c87141",
   "metadata": {},
   "outputs": [
    {
     "name": "stdout",
     "output_type": "stream",
     "text": [
      "['apple', 'mango', 'banana', 'chery']\n"
     ]
    }
   ],
   "source": [
    "list=['apple','mango','banana','chery']\n",
    "print(list)"
   ]
  },
  {
   "cell_type": "code",
   "execution_count": 16,
   "id": "a4a17d91",
   "metadata": {},
   "outputs": [
    {
     "data": {
      "text/plain": [
       "['mango', 'banana', 'chery']"
      ]
     },
     "execution_count": 16,
     "metadata": {},
     "output_type": "execute_result"
    }
   ],
   "source": [
    "list[1:4]"
   ]
  },
  {
   "cell_type": "code",
   "execution_count": 20,
   "id": "448a94c3",
   "metadata": {},
   "outputs": [
    {
     "data": {
      "text/plain": [
       "['apple', 'mango', 'banana', 'appricot']"
      ]
     },
     "execution_count": 20,
     "metadata": {},
     "output_type": "execute_result"
    }
   ],
   "source": [
    "list[-1]=\"appricot\"\n",
    "list"
   ]
  },
  {
   "cell_type": "code",
   "execution_count": 49,
   "id": "034b4098",
   "metadata": {},
   "outputs": [
    {
     "data": {
      "text/plain": [
       "['apple', 'pineapple', 'pineapple', 'cherry', 'cherry', 'pineapple']"
      ]
     },
     "execution_count": 49,
     "metadata": {},
     "output_type": "execute_result"
    }
   ],
   "source": [
    "del(list[1:3])\n",
    "list"
   ]
  },
  {
   "cell_type": "code",
   "execution_count": 22,
   "id": "5307677c",
   "metadata": {},
   "outputs": [
    {
     "data": {
      "text/plain": [
       "['apple', 'mango', 'banana']"
      ]
     },
     "execution_count": 22,
     "metadata": {},
     "output_type": "execute_result"
    }
   ],
   "source": [
    "list"
   ]
  },
  {
   "cell_type": "code",
   "execution_count": 26,
   "id": "98b35da7",
   "metadata": {},
   "outputs": [
    {
     "data": {
      "text/plain": [
       "['apple', 'mango', 'banana', 'cherry', 'cherry']"
      ]
     },
     "execution_count": 26,
     "metadata": {},
     "output_type": "execute_result"
    }
   ],
   "source": [
    "list.append('cherry')\n",
    "list"
   ]
  },
  {
   "cell_type": "code",
   "execution_count": 35,
   "id": "42851c2a",
   "metadata": {},
   "outputs": [
    {
     "data": {
      "text/plain": [
       "['apple',\n",
       " 'mango',\n",
       " 'banana',\n",
       " 'pineapple',\n",
       " 'pineapple',\n",
       " 'cherry',\n",
       " 'cherry',\n",
       " 'pineapple']"
      ]
     },
     "execution_count": 35,
     "metadata": {},
     "output_type": "execute_result"
    }
   ],
   "source": [
    "list.insert(3,\"pineapple\")\n",
    "list"
   ]
  },
  {
   "cell_type": "code",
   "execution_count": 33,
   "id": "bf19089b",
   "metadata": {},
   "outputs": [
    {
     "data": {
      "text/plain": [
       "['apple', 'mango', 'banana', 'pineapple', 'cherry', 'cherry', 'pineapple']"
      ]
     },
     "execution_count": 33,
     "metadata": {},
     "output_type": "execute_result"
    }
   ],
   "source": [
    "list[-1]\n",
    "list"
   ]
  },
  {
   "cell_type": "code",
   "execution_count": 36,
   "id": "2898e71d",
   "metadata": {},
   "outputs": [
    {
     "data": {
      "text/plain": [
       "['staf']"
      ]
     },
     "execution_count": 36,
     "metadata": {},
     "output_type": "execute_result"
    }
   ],
   "source": [
    "staf=['asif','sad','hassan','umer']\n",
    "faculty=['waseem','nasir','uzma']\n",
    "employee=[]\n"
   ]
  },
  {
   "cell_type": "code",
   "execution_count": 39,
   "id": "a47f3751",
   "metadata": {},
   "outputs": [
    {
     "name": "stdout",
     "output_type": "stream",
     "text": [
      "['staf', ['asif', 'sad', 'hassan', 'umer'], ['asif', 'sad', 'hassan', 'umer'], ['asif', 'sad', 'hassan', 'umer']]\n"
     ]
    }
   ],
   "source": [
    "employee.append(staf)\n",
    "print(employee)"
   ]
  },
  {
   "cell_type": "code",
   "execution_count": 40,
   "id": "683810f8",
   "metadata": {},
   "outputs": [
    {
     "data": {
      "text/plain": [
       "['staf',\n",
       " ['asif', 'sad', 'hassan', 'umer'],\n",
       " ['asif', 'sad', 'hassan', 'umer'],\n",
       " ['asif', 'sad', 'hassan', 'umer'],\n",
       " 'waseem',\n",
       " 'nasir',\n",
       " 'uzma']"
      ]
     },
     "execution_count": 40,
     "metadata": {},
     "output_type": "execute_result"
    }
   ],
   "source": [
    "employee.extend(faculty)\n",
    "employee"
   ]
  },
  {
   "cell_type": "code",
   "execution_count": 42,
   "id": "43de0d4b",
   "metadata": {},
   "outputs": [
    {
     "data": {
      "text/plain": [
       "['staf',\n",
       " ['asif', 'sad', 'hassan', 'umer'],\n",
       " ['asif', 'sad', 'hassan', 'umer'],\n",
       " ['asif', 'sad', 'hassan', 'umer'],\n",
       " 'waseem',\n",
       " 'nasir',\n",
       " 'uzma',\n",
       " 'asif',\n",
       " 'sad',\n",
       " 'hassan',\n",
       " 'umer',\n",
       " 'waseem',\n",
       " 'nasir',\n",
       " 'uzma']"
      ]
     },
     "execution_count": 42,
     "metadata": {},
     "output_type": "execute_result"
    }
   ],
   "source": [
    "employee+staf+faculty"
   ]
  },
  {
   "cell_type": "code",
   "execution_count": 48,
   "id": "4805ec1a",
   "metadata": {},
   "outputs": [
    {
     "data": {
      "text/plain": [
       "['asif', 'sad', 'hassan', 'umer', 'waseem', 'nasir', 'uzma']"
      ]
     },
     "execution_count": 48,
     "metadata": {},
     "output_type": "execute_result"
    }
   ],
   "source": [
    "emp = staf+faculty\n",
    "emp"
   ]
  },
  {
   "cell_type": "code",
   "execution_count": 65,
   "id": "4b136884",
   "metadata": {},
   "outputs": [
    {
     "ename": "ValueError",
     "evalue": "list.remove(x): x not in list",
     "output_type": "error",
     "traceback": [
      "\u001b[1;31m---------------------------------------------------------------------------\u001b[0m",
      "\u001b[1;31mValueError\u001b[0m                                Traceback (most recent call last)",
      "\u001b[1;32m~\\AppData\\Local\\Temp/ipykernel_12092/3017034568.py\u001b[0m in \u001b[0;36m<module>\u001b[1;34m\u001b[0m\n\u001b[1;32m----> 1\u001b[1;33m \u001b[0memp\u001b[0m\u001b[1;33m.\u001b[0m\u001b[0mremove\u001b[0m\u001b[1;33m(\u001b[0m\u001b[1;34m'sad'\u001b[0m\u001b[1;33m)\u001b[0m\u001b[1;33m\u001b[0m\u001b[1;33m\u001b[0m\u001b[0m\n\u001b[0m\u001b[0;32m      2\u001b[0m \u001b[0memp\u001b[0m\u001b[1;33m\u001b[0m\u001b[1;33m\u001b[0m\u001b[0m\n",
      "\u001b[1;31mValueError\u001b[0m: list.remove(x): x not in list"
     ]
    }
   ],
   "source": [
    "emp.remove('hassan')\n"
   ]
  },
  {
   "cell_type": "code",
   "execution_count": 50,
   "id": "6aafda67",
   "metadata": {},
   "outputs": [
    {
     "data": {
      "text/plain": [
       "['asif', 'umer', 'waseem', 'nasir', 'uzma']"
      ]
     },
     "execution_count": 50,
     "metadata": {},
     "output_type": "execute_result"
    }
   ],
   "source": [
    "del(emp[1:3])\n",
    "emp"
   ]
  },
  {
   "cell_type": "code",
   "execution_count": 64,
   "id": "72bf8fba",
   "metadata": {},
   "outputs": [
    {
     "ename": "IndexError",
     "evalue": "pop from empty list",
     "output_type": "error",
     "traceback": [
      "\u001b[1;31m---------------------------------------------------------------------------\u001b[0m",
      "\u001b[1;31mIndexError\u001b[0m                                Traceback (most recent call last)",
      "\u001b[1;32m~\\AppData\\Local\\Temp/ipykernel_12092/2077927242.py\u001b[0m in \u001b[0;36m<module>\u001b[1;34m\u001b[0m\n\u001b[1;32m----> 1\u001b[1;33m \u001b[0memp\u001b[0m\u001b[1;33m.\u001b[0m\u001b[0mpop\u001b[0m\u001b[1;33m(\u001b[0m\u001b[1;33m)\u001b[0m\u001b[1;33m\u001b[0m\u001b[1;33m\u001b[0m\u001b[0m\n\u001b[0m\u001b[0;32m      2\u001b[0m \u001b[0memp\u001b[0m\u001b[1;33m\u001b[0m\u001b[1;33m\u001b[0m\u001b[0m\n",
      "\u001b[1;31mIndexError\u001b[0m: pop from empty list"
     ]
    }
   ],
   "source": [
    "emp.pop()\n",
    "emp"
   ]
  },
  {
   "cell_type": "code",
   "execution_count": 68,
   "id": "a8c0d462",
   "metadata": {},
   "outputs": [
    {
     "data": {
      "text/plain": [
       "['apple', 'pineapple', 'pineapple', 'cherry', 'cherry', 'pineapple']"
      ]
     },
     "execution_count": 68,
     "metadata": {},
     "output_type": "execute_result"
    }
   ],
   "source": [
    "list"
   ]
  },
  {
   "cell_type": "code",
   "execution_count": 74,
   "id": "8ad15acc",
   "metadata": {},
   "outputs": [
    {
     "data": {
      "text/plain": [
       "3"
      ]
     },
     "execution_count": 74,
     "metadata": {},
     "output_type": "execute_result"
    }
   ],
   "source": [
    "list.count(\"pineapple\")\n"
   ]
  },
  {
   "cell_type": "code",
   "execution_count": 76,
   "id": "d68b4880",
   "metadata": {},
   "outputs": [
    {
     "data": {
      "text/plain": [
       "['apple', 'cherry', 'cherry', 'pineapple', 'pineapple', 'pineapple']"
      ]
     },
     "execution_count": 76,
     "metadata": {},
     "output_type": "execute_result"
    }
   ],
   "source": [
    "list.sort()\n",
    "list"
   ]
  },
  {
   "cell_type": "code",
   "execution_count": 77,
   "id": "3a34bff6",
   "metadata": {},
   "outputs": [
    {
     "data": {
      "text/plain": [
       "['pineapple', 'pineapple', 'pineapple', 'cherry', 'cherry', 'apple']"
      ]
     },
     "execution_count": 77,
     "metadata": {},
     "output_type": "execute_result"
    }
   ],
   "source": [
    "list.reverse()\n",
    "list"
   ]
  },
  {
   "cell_type": "code",
   "execution_count": 78,
   "id": "915ee13b",
   "metadata": {},
   "outputs": [
    {
     "data": {
      "text/plain": [
       "['pineapple', 'pineapple', 'pineapple', 'cherry', 'cherry', 'apple']"
      ]
     },
     "execution_count": 78,
     "metadata": {},
     "output_type": "execute_result"
    }
   ],
   "source": [
    "list"
   ]
  },
  {
   "cell_type": "code",
   "execution_count": 128,
   "id": "ef376ed0",
   "metadata": {},
   "outputs": [
    {
     "data": {
      "text/plain": [
       "False"
      ]
     },
     "execution_count": 128,
     "metadata": {},
     "output_type": "execute_result"
    }
   ],
   "source": [
    "list[:] is list "
   ]
  },
  {
   "cell_type": "code",
   "execution_count": 119,
   "id": "6fa07eaf",
   "metadata": {},
   "outputs": [
    {
     "data": {
      "text/plain": [
       "['a', 'day', 'without', 'python', 'is', 'empty', 'day']"
      ]
     },
     "execution_count": 119,
     "metadata": {},
     "output_type": "execute_result"
    }
   ],
   "source": [
    "text=\"a day without python is empty day\"\n",
    "splitted=text.split()\n",
    "splitted"
   ]
  },
  {
   "cell_type": "code",
   "execution_count": 154,
   "id": "de30ceaf",
   "metadata": {},
   "outputs": [
    {
     "data": {
      "text/plain": [
       "['a', 'day', 'without', 'python', 'is', 'empty', 'day']"
      ]
     },
     "execution_count": 154,
     "metadata": {},
     "output_type": "execute_result"
    }
   ],
   "source": [
    "reverse=splitted[::1]\n",
    "reverse"
   ]
  },
  {
   "cell_type": "code",
   "execution_count": 151,
   "id": "e45beddb",
   "metadata": {},
   "outputs": [
    {
     "data": {
      "text/plain": [
       "'a day without python is empty day'"
      ]
     },
     "execution_count": 151,
     "metadata": {},
     "output_type": "execute_result"
    }
   ],
   "source": [
    "' '.join(reverse)"
   ]
  },
  {
   "cell_type": "code",
   "execution_count": 152,
   "id": "2909dfb0",
   "metadata": {},
   "outputs": [
    {
     "data": {
      "text/plain": [
       "'a day without python is empty day'"
      ]
     },
     "execution_count": 152,
     "metadata": {},
     "output_type": "execute_result"
    }
   ],
   "source": [
    " \" \".join(text.split()[::1])"
   ]
  },
  {
   "cell_type": "code",
   "execution_count": 141,
   "id": "c327251c",
   "metadata": {},
   "outputs": [
    {
     "data": {
      "text/plain": [
       "[1, 2, 3, 4, 5, 'd', 'e']"
      ]
     },
     "execution_count": 141,
     "metadata": {},
     "output_type": "execute_result"
    }
   ],
   "source": [
    "a=[1,2,3,4,5]\n",
    "a[len(a):]=['d','e']\n",
    "a"
   ]
  },
  {
   "cell_type": "code",
   "execution_count": 146,
   "id": "6a1b89f8",
   "metadata": {},
   "outputs": [
    {
     "data": {
      "text/plain": [
       "[1, 2, 3, 4, 5, 'd', 'e', 'd', 'e', 'd', 'e', 'd', 'e']"
      ]
     },
     "execution_count": 146,
     "metadata": {},
     "output_type": "execute_result"
    }
   ],
   "source": [
    "a+=['d','e']\n",
    "a"
   ]
  },
  {
   "cell_type": "code",
   "execution_count": 147,
   "id": "38d32435",
   "metadata": {},
   "outputs": [
    {
     "data": {
      "text/plain": [
       "[1, 2, 3, 4, 5, 'd', 'e', 'd', 'e', 'd', 'e', 'd', 'd', 'e']"
      ]
     },
     "execution_count": 147,
     "metadata": {},
     "output_type": "execute_result"
    }
   ],
   "source": [
    "a[-1:]=['d','e']\n",
    "a"
   ]
  },
  {
   "cell_type": "code",
   "execution_count": 149,
   "id": "cb6044ae",
   "metadata": {},
   "outputs": [
    {
     "data": {
      "text/plain": [
       "tuple"
      ]
     },
     "execution_count": 149,
     "metadata": {},
     "output_type": "execute_result"
    }
   ],
   "source": [
    "t=('foo',)\n",
    "type(t)"
   ]
  },
  {
   "cell_type": "code",
   "execution_count": null,
   "id": "474fb948",
   "metadata": {},
   "outputs": [],
   "source": []
  }
 ],
 "metadata": {
  "kernelspec": {
   "display_name": "Python 3 (ipykernel)",
   "language": "python",
   "name": "python3"
  },
  "language_info": {
   "codemirror_mode": {
    "name": "ipython",
    "version": 3
   },
   "file_extension": ".py",
   "mimetype": "text/x-python",
   "name": "python",
   "nbconvert_exporter": "python",
   "pygments_lexer": "ipython3",
   "version": "3.9.7"
  }
 },
 "nbformat": 4,
 "nbformat_minor": 5
}
