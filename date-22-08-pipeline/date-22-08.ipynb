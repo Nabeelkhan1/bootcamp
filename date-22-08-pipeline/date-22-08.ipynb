{
 "cells": [
  {
   "cell_type": "code",
   "execution_count": null,
   "id": "fcec0277",
   "metadata": {},
   "outputs": [],
   "source": [
    "import numpy as np\n",
    "import pandas as pd\n",
    "from sklearn.impute import SimpleImputer\n",
    "from sklearn.preprocessing import OneHotEncoder\n",
    "from sklearn.preprocessing import OrdinalEncoder"
   ]
  },
  {
   "cell_type": "code",
   "execution_count": null,
   "id": "cd94b221",
   "metadata": {},
   "outputs": [],
   "source": [
    "df=pd.read_csv('covid_toy.csv')\n",
    "df.shape"
   ]
  },
  {
   "cell_type": "code",
   "execution_count": null,
   "id": "49dc3c1d",
   "metadata": {},
   "outputs": [],
   "source": [
    "df.head()"
   ]
  },
  {
   "cell_type": "code",
   "execution_count": null,
   "id": "c51026fc",
   "metadata": {},
   "outputs": [],
   "source": [
    "df.isnull().sum()"
   ]
  },
  {
   "cell_type": "code",
   "execution_count": null,
   "id": "b7b4d019",
   "metadata": {},
   "outputs": [],
   "source": [
    "from sklearn.model_selection import train_test_split\n",
    "X_train,X_test,y_train,y_test=train_test_split(df.drop(columns=['has_covid']),df['has_covid'],test_size=0.2)"
   ]
  },
  {
   "cell_type": "code",
   "execution_count": null,
   "id": "182fa295",
   "metadata": {},
   "outputs": [],
   "source": [
    "X_train"
   ]
  },
  {
   "cell_type": "markdown",
   "id": "ca644773",
   "metadata": {},
   "source": [
    "# AAM zindagi"
   ]
  },
  {
   "cell_type": "code",
   "execution_count": null,
   "id": "a94dcbb8",
   "metadata": {},
   "outputs": [],
   "source": [
    "si=SimpleImputer()\n",
    "X_train_fever=si.fit_transform(X_train[[\"fever\"]])\n",
    "\n",
    "X_test_fever=si.fit_transform(X_test[[\"fever\"]])\n",
    "X_train_fever.shape"
   ]
  },
  {
   "cell_type": "code",
   "execution_count": null,
   "id": "fe2982f3",
   "metadata": {},
   "outputs": [],
   "source": [
    "oe=OrdinalEncoder(categories=[['Mild',\"Strong\"]])\n",
    "X_train_cough = oe.fit_transform(X_train[[\"cough\"]])\n",
    "\n",
    "X_test_cough=oe.fit_transform(X_test[['cough']])\n",
    "X_train_cough.shape"
   ]
  },
  {
   "cell_type": "code",
   "execution_count": null,
   "id": "be593e5d",
   "metadata": {},
   "outputs": [],
   "source": [
    "ohe=OneHotEncoder(drop='first',sparse=False)\n",
    "X_train_gender_city=ohe.fit_transform(X_train[[\"gender\",\"city\"]])\n",
    "\n",
    "X_test_gender_city=ohe.fit_transform(X_test[[\"gender\",\"city\"]])\n",
    "X_train_gender_city"
   ]
  },
  {
   "cell_type": "code",
   "execution_count": null,
   "id": "6124f49b",
   "metadata": {},
   "outputs": [],
   "source": [
    "X_train_age=X_train.drop(columns=['gender','fever','cough','city']).values\n",
    "\n",
    "X_test_age=X_test.drop(columns=['gender','fever','cough','city']).values\n",
    "\n",
    "X_train_age.shape"
   ]
  },
  {
   "cell_type": "code",
   "execution_count": null,
   "id": "d4095f46",
   "metadata": {},
   "outputs": [],
   "source": [
    "X_train_transformed=np.concatenate((X_train_age,X_train_fever,X_train_gender_city,X_train_cough),axis=1)\n",
    "\n",
    "X_test_transformed=np.concatenate((X_test_age,X_test_fever,X_test_gender_city,X_test_cough),axis=1)\n",
    "\n",
    "X_train_transformed.shape"
   ]
  },
  {
   "cell_type": "markdown",
   "id": "ea657462",
   "metadata": {},
   "source": [
    "# Mentos zindagi"
   ]
  },
  {
   "cell_type": "code",
   "execution_count": null,
   "id": "2f6b6e0b",
   "metadata": {},
   "outputs": [],
   "source": [
    "from sklearn.compose import ColumnTransformer"
   ]
  },
  {
   "cell_type": "code",
   "execution_count": null,
   "id": "57351674",
   "metadata": {},
   "outputs": [],
   "source": [
    "transformer=ColumnTransformer(transformers=[\n",
    "    ('tnf1',SimpleImputer(),['fever']),\n",
    "    ('tnf2',OrdinalEncoder(categories=[['Mild','Strong']]),['cough']),\n",
    "    ('tnf3',OneHotEncoder(sparse=False,drop=\"first\"),['gender','city'])],\n",
    "    remainder='passthrough'\n",
    ")"
   ]
  },
  {
   "cell_type": "code",
   "execution_count": null,
   "id": "f778b18b",
   "metadata": {},
   "outputs": [],
   "source": [
    "transformer.fit_transform(X_train).shape"
   ]
  },
  {
   "cell_type": "code",
   "execution_count": null,
   "id": "97132fa9",
   "metadata": {},
   "outputs": [],
   "source": [
    "transformer.transform(X_test).shape"
   ]
  },
  {
   "cell_type": "code",
   "execution_count": null,
   "id": "09c6f5fd",
   "metadata": {},
   "outputs": [],
   "source": []
  }
 ],
 "metadata": {
  "kernelspec": {
   "display_name": "Python 3 (ipykernel)",
   "language": "python",
   "name": "python3"
  },
  "language_info": {
   "codemirror_mode": {
    "name": "ipython",
    "version": 3
   },
   "file_extension": ".py",
   "mimetype": "text/x-python",
   "name": "python",
   "nbconvert_exporter": "python",
   "pygments_lexer": "ipython3",
   "version": "3.11.3"
  }
 },
 "nbformat": 4,
 "nbformat_minor": 5
}
